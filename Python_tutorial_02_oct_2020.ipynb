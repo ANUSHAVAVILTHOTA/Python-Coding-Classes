{
  "nbformat": 4,
  "nbformat_minor": 0,
  "metadata": {
    "colab": {
      "name": "Python tutorial 02-oct-2020.ipynb",
      "provenance": []
    },
    "kernelspec": {
      "name": "python3",
      "display_name": "Python 3"
    }
  },
  "cells": [
    {
      "cell_type": "code",
      "metadata": {
        "id": "RjzSQ3o6DV1z",
        "outputId": "85789d0f-b11f-4d78-c1d1-d57932f03525",
        "colab": {
          "base_uri": "https://localhost:8080/",
          "height": 51
        }
      },
      "source": [
        "print(\"Hello Good morning\")\n",
        "#Basic Syntax\n",
        "\n",
        "#variables\n",
        "x=5\n",
        "print(x)"
      ],
      "execution_count": 3,
      "outputs": [
        {
          "output_type": "stream",
          "text": [
            "Hello Good morning\n",
            "5\n"
          ],
          "name": "stdout"
        }
      ]
    },
    {
      "cell_type": "code",
      "metadata": {
        "id": "r8WUOhvTEsnA",
        "outputId": "06f5e661-f9c6-45c9-ed86-3b21b63ce622",
        "colab": {
          "base_uri": "https://localhost:8080/",
          "height": 51
        }
      },
      "source": [
        "y23='anusha' #starts with only letters can't starts with numbers and [0-9 a-z _]\n",
        "Y23='anusha'\n",
        "print(y23)\n",
        "print(Y23)"
      ],
      "execution_count": 10,
      "outputs": [
        {
          "output_type": "stream",
          "text": [
            "anusha\n",
            "anusha\n"
          ],
          "name": "stdout"
        }
      ]
    },
    {
      "cell_type": "code",
      "metadata": {
        "id": "yP8zxmDdFhMH",
        "outputId": "6629e35d-63b2-47c3-e280-af4eb8b7bef8",
        "colab": {
          "base_uri": "https://localhost:8080/",
          "height": 119
        }
      },
      "source": [
        "x,y,z=\"str1\",\"str2\",\"str3\"\n",
        "print(x)\n",
        "print(y)\n",
        "print(z)\n",
        "x=y=z=\"org\"\n",
        "print(x)\n",
        "print(y)\n",
        "print(z)"
      ],
      "execution_count": 12,
      "outputs": [
        {
          "output_type": "stream",
          "text": [
            "str1\n",
            "str2\n",
            "str3\n",
            "org\n",
            "org\n",
            "org\n"
          ],
          "name": "stdout"
        }
      ]
    },
    {
      "cell_type": "code",
      "metadata": {
        "id": "y0uSHeHmF35G",
        "outputId": "f562deda-60a7-4cb8-cd28-5f7e51ae2e4d",
        "colab": {
          "base_uri": "https://localhost:8080/",
          "height": 51
        }
      },
      "source": [
        "x=\"anu\"\n",
        "y=\"sha\"\n",
        "print(x+y)\n",
        "x=3\n",
        "y=5\n",
        "print(x+y)"
      ],
      "execution_count": 14,
      "outputs": [
        {
          "output_type": "stream",
          "text": [
            "anusha\n",
            "8\n"
          ],
          "name": "stdout"
        }
      ]
    },
    {
      "cell_type": "code",
      "metadata": {
        "id": "3KovWMOFE3gT",
        "outputId": "69299e08-36ce-4efc-e8aa-a15b8cb51db8",
        "colab": {
          "base_uri": "https://localhost:8080/",
          "height": 51
        }
      },
      "source": [
        "# data types\n",
        "# text tye,number .sequence mapping set boolean binary\n",
        "\n",
        "x=\"hello world\"\n",
        "print(x)\n",
        "print(type(x))\n",
        "y=2\n",
        "print(y)\n",
        "print(type(y))\n",
        "z=20.45\n",
        "print(type(z))\n",
        "print(z)\n",
        "x=[\"apple\",\"grape\"]\n",
        "print(x)\n",
        "print(type(x))\n",
        "x=(\"apple\",\"grape\")\n",
        "print(x)\n",
        "print(type(x))\n",
        "x=range(8)\n",
        "print(x)\n",
        "print(type(x))\n",
        "\n",
        "\n",
        "\n",
        "y={\"anu\",\"apple\",\"anu\",\"apple\"}\n",
        "print(y)\n",
        "print(type(y))\n",
        "\n",
        "x=True\n",
        "y=False\n",
        "print(x,y)\n",
        "print(x)\n",
        "print(y)\n",
        "print(type(x))\n",
        "print(type(y))\n",
        "\n",
        "x=b\"Hello\"\n",
        "print(x)\n",
        "print(type(x))\n",
        "\n",
        "x={\"age1\":\"anu\",\"age\":20,\"name\":123}\n",
        "print(x)\n",
        "print(type(x))"
      ],
      "execution_count": 40,
      "outputs": [
        {
          "output_type": "stream",
          "text": [
            "{'age1': 'anu', 'age': 20, 'name': 123}\n",
            "<class 'dict'>\n"
          ],
          "name": "stdout"
        }
      ]
    },
    {
      "cell_type": "code",
      "metadata": {
        "id": "xR58g6T-WLTh"
      },
      "source": [
        "#starting of about section\n",
        "\n",
        "print(\"\")\n",
        "x=\"anu\"\n",
        "x=5\n",
        "x=['','',]\n",
        "x=('','')\n",
        "print(x)\n",
        "print('')\n",
        "print(7)\n",
        "#end of about section\n",
        "#start of"
      ],
      "execution_count": null,
      "outputs": []
    },
    {
      "cell_type": "code",
      "metadata": {
        "id": "VYbj7X9mKrZ6"
      },
      "source": [
        "\n"
      ],
      "execution_count": null,
      "outputs": []
    }
  ]
}