{
  "nbformat": 4,
  "nbformat_minor": 0,
  "metadata": {
    "colab": {
      "name": "25-oct-2020.ipynb",
      "provenance": []
    },
    "kernelspec": {
      "name": "python3",
      "display_name": "Python 3"
    }
  },
  "cells": [
    {
      "cell_type": "code",
      "metadata": {
        "id": "zCw722mRd8r9",
        "outputId": "4f8579b7-747f-4b43-da99-0016107a5e43",
        "colab": {
          "base_uri": "https://localhost:8080/",
          "height": 51
        }
      },
      "source": [
        "#Functions\n",
        "\n",
        "#creating functions\n",
        "\n",
        "def my_function():\n",
        "  print(\"hello\")\n",
        "  print(2+3)\n",
        "#calling\n",
        "my_function()\n"
      ],
      "execution_count": 5,
      "outputs": [
        {
          "output_type": "stream",
          "text": [
            "hello\n",
            "5\n"
          ],
          "name": "stdout"
        }
      ]
    },
    {
      "cell_type": "code",
      "metadata": {
        "id": "V33GG9oqhXek",
        "outputId": "d205d58e-1545-4290-96ea-e1d730caf8fe",
        "colab": {
          "base_uri": "https://localhost:8080/",
          "height": 34
        }
      },
      "source": [
        "def my_function():\n",
        "  print(\"Ayushi\")\n",
        "\n",
        "my_function()"
      ],
      "execution_count": 6,
      "outputs": [
        {
          "output_type": "stream",
          "text": [
            "Ayushi\n"
          ],
          "name": "stdout"
        }
      ]
    },
    {
      "cell_type": "code",
      "metadata": {
        "id": "tg4TKsZvh1zB",
        "outputId": "8a94f89e-4a8c-4662-a37e-faf595ba579d",
        "colab": {
          "base_uri": "https://localhost:8080/",
          "height": 34
        }
      },
      "source": [
        "#parameters\n",
        "def my_function1(name):\n",
        "  print(name)\n",
        "\n",
        "my_function1(\"Anusha\")"
      ],
      "execution_count": 7,
      "outputs": [
        {
          "output_type": "stream",
          "text": [
            "Anusha\n"
          ],
          "name": "stdout"
        }
      ]
    },
    {
      "cell_type": "code",
      "metadata": {
        "id": "95HbXGZWiVRP",
        "outputId": "89e09574-aec3-478b-bb6d-56b0a26b5f28",
        "colab": {
          "base_uri": "https://localhost:8080/",
          "height": 34
        }
      },
      "source": [
        "def my_function1(x):\n",
        "  print(x)\n",
        "\n",
        "my_function1(\"Food\")"
      ],
      "execution_count": 8,
      "outputs": [
        {
          "output_type": "stream",
          "text": [
            "Food\n"
          ],
          "name": "stdout"
        }
      ]
    },
    {
      "cell_type": "code",
      "metadata": {
        "id": "JhlIYrrjihvn",
        "outputId": "6f025627-6514-47a6-f6ad-043bacaffac2",
        "colab": {
          "base_uri": "https://localhost:8080/",
          "height": 85
        }
      },
      "source": [
        "#number of parameters\n",
        "def my_function2(x,y,z):\n",
        "  print(x)\n",
        "  print(y)\n",
        "  print(z)\n",
        "  print(x,y,z)\n",
        "\n",
        "my_function2(\"anu\",\"anusha\",\"kp\")"
      ],
      "execution_count": 10,
      "outputs": [
        {
          "output_type": "stream",
          "text": [
            "anu\n",
            "anusha\n",
            "kp\n",
            "anu anusha kp\n"
          ],
          "name": "stdout"
        }
      ]
    },
    {
      "cell_type": "code",
      "metadata": {
        "id": "W-YSnbsGjBNM",
        "outputId": "f986ec2a-d012-48e0-b747-ac552c0be5c1",
        "colab": {
          "base_uri": "https://localhost:8080/",
          "height": 85
        }
      },
      "source": [
        "# 4 parameters and print all those\n",
        "def shriya(w,x,y,z):\n",
        "  print(w)\n",
        "  print(x)\n",
        "  print(y)\n",
        "  print(z)\n",
        "shriya(\"class\",10,11,34.67)\n",
        "  "
      ],
      "execution_count": 12,
      "outputs": [
        {
          "output_type": "stream",
          "text": [
            "class\n",
            "10\n",
            "11\n",
            "34.67\n"
          ],
          "name": "stdout"
        }
      ]
    },
    {
      "cell_type": "code",
      "metadata": {
        "id": "M38dSowAj3n_",
        "outputId": "754b9216-3691-4872-e961-b682132b7e38",
        "colab": {
          "base_uri": "https://localhost:8080/",
          "height": 102
        }
      },
      "source": [
        "#arbitary arguments\n",
        "#0=\"anu\",1=\"kp\", 2=\"apple\",3=\"orange\" 4=blue\n",
        "#name=[anu,kp,apple,orange,blue]\n",
        "def my_function(*name):\n",
        "   print(name[0])\n",
        "   print(name[1])\n",
        "   print(name[2])\n",
        "   print(name[3])\n",
        "   print(name[-2])\n",
        "\n",
        "my_function(\"anu\",\"kp\",\"apple\",\"orange\",\"blue\")"
      ],
      "execution_count": 17,
      "outputs": [
        {
          "output_type": "stream",
          "text": [
            "anu\n",
            "kp\n",
            "apple\n",
            "orange\n",
            "orange\n"
          ],
          "name": "stdout"
        }
      ]
    },
    {
      "cell_type": "code",
      "metadata": {
        "id": "ZbNIgwl4lHxo",
        "outputId": "a733fe85-170f-4baf-ebb7-ea62ae37a72c",
        "colab": {
          "base_uri": "https://localhost:8080/",
          "height": 102
        }
      },
      "source": [
        "# apple blue red school  key\n",
        "def my_function(*shriya):\n",
        "   print(shriya[0])\n",
        "   print(shriya[1])\n",
        "   print(shriya[2])\n",
        "   print(shriya[3])\n",
        "   print(shriya[4])\n",
        "my_function(\"apple\",\"blue\",\"red\",\"school\",\"key\")"
      ],
      "execution_count": 21,
      "outputs": [
        {
          "output_type": "stream",
          "text": [
            "apple\n",
            "blue\n",
            "red\n",
            "school\n",
            "key\n"
          ],
          "name": "stdout"
        }
      ]
    },
    {
      "cell_type": "code",
      "metadata": {
        "id": "_wRXwnBWmNUj",
        "outputId": "ec44acb3-7a53-4ea9-8328-25ca17a6c081",
        "colab": {
          "base_uri": "https://localhost:8080/",
          "height": 68
        }
      },
      "source": [
        "#keyword arguments\n",
        "def anusha(x,y,z):\n",
        "   print(x)\n",
        "   print(y)\n",
        "   print(z)\n",
        "anusha(y=3,x=10,z=25)"
      ],
      "execution_count": 22,
      "outputs": [
        {
          "output_type": "stream",
          "text": [
            "10\n",
            "3\n",
            "25\n"
          ],
          "name": "stdout"
        }
      ]
    },
    {
      "cell_type": "code",
      "metadata": {
        "id": "3pyXeI7dmtFg",
        "outputId": "1d713cec-f86f-4cbc-e2c1-235382e889c5",
        "colab": {
          "base_uri": "https://localhost:8080/",
          "height": 68
        }
      },
      "source": [
        "# a=25 b=35 c=67\n",
        " \n",
        "def ayushi(a,b,c):\n",
        "  print(a)\n",
        "  print(b)\n",
        "  print(c)\n",
        "\n",
        "ayushi(a=25,b=35,c=67)\n",
        "\n"
      ],
      "execution_count": 23,
      "outputs": [
        {
          "output_type": "stream",
          "text": [
            "25\n",
            "35\n",
            "67\n"
          ],
          "name": "stdout"
        }
      ]
    },
    {
      "cell_type": "code",
      "metadata": {
        "id": "sbzyvu8xndyd",
        "outputId": "a000a245-ead4-4a2b-ab7f-fcd33ce689aa",
        "colab": {
          "base_uri": "https://localhost:8080/",
          "height": 119
        }
      },
      "source": [
        "# 6 and 7\n",
        "def ayushi(x,y):\n",
        "  print(x,y)\n",
        "  if(x%2==0):\n",
        "    print(x)\n",
        "    print(\"yes it is even\")\n",
        "    print(x,\"yes it is even\")\n",
        "  else:\n",
        "    print(\"No it is odd\")\n",
        "  if(y%2==0):\n",
        "    print(\"yes it is even\")\n",
        "  else:\n",
        "    print(y)\n",
        "    print(\"No it is odd\")\n",
        "ayushi(6,7)"
      ],
      "execution_count": 31,
      "outputs": [
        {
          "output_type": "stream",
          "text": [
            "6 7\n",
            "6\n",
            "yes it is even\n",
            "6 yes it is even\n",
            "7\n",
            "No it is odd\n"
          ],
          "name": "stdout"
        }
      ]
    },
    {
      "cell_type": "code",
      "metadata": {
        "id": "x0gJRMMUqBow",
        "outputId": "e2712f92-68e3-4850-a0b6-c8b536eacc47",
        "colab": {
          "base_uri": "https://localhost:8080/",
          "height": 34
        }
      },
      "source": [
        "#passing list as an argument\n",
        "#food=[\"apple\",\"orange\",\"cherry\"]\n",
        "def my_function(food):\n",
        "    print(food)\n",
        "y=[\"apple\",\"orange\",\"cherry\"]\n",
        "my_function(y)"
      ],
      "execution_count": 37,
      "outputs": [
        {
          "output_type": "stream",
          "text": [
            "['apple', 'orange', 'cherry']\n"
          ],
          "name": "stdout"
        }
      ]
    },
    {
      "cell_type": "code",
      "metadata": {
        "id": "sYjYUEVTrCE4",
        "outputId": "4f9f17a0-0942-4ed3-f67b-f767c81136b1",
        "colab": {
          "base_uri": "https://localhost:8080/",
          "height": 68
        }
      },
      "source": [
        "def my_function(food):\n",
        "    for x in food:\n",
        "      print(x)\n",
        "y=[\"apple\",\"orange\",\"cherry\"]\n",
        "my_function(y)"
      ],
      "execution_count": 38,
      "outputs": [
        {
          "output_type": "stream",
          "text": [
            "apple\n",
            "orange\n",
            "cherry\n"
          ],
          "name": "stdout"
        }
      ]
    },
    {
      "cell_type": "code",
      "metadata": {
        "id": "3oSegssnrKcu",
        "outputId": "8ab08451-4b34-4ae0-dcf6-1796e8305d1b",
        "colab": {
          "base_uri": "https://localhost:8080/",
          "height": 85
        }
      },
      "source": [
        "#create one list and pass that into function \n",
        "# function name is kp\n",
        "# get the list vales and print one by one or else print as a list\n",
        "def kp(ayushi):\n",
        "   print(ayushi)\n",
        "   for anu in ayushi:  #[\"ayushi\",\"class8\",\"lemon\"]\n",
        "     print(anu)\n",
        "g=[\"ayushi\",\"class8\",\"lemon\"]\n",
        "kp(g)"
      ],
      "execution_count": 43,
      "outputs": [
        {
          "output_type": "stream",
          "text": [
            "['ayushi', 'class8', 'lemon']\n",
            "ayushi\n",
            "class8\n",
            "lemon\n"
          ],
          "name": "stdout"
        }
      ]
    },
    {
      "cell_type": "code",
      "metadata": {
        "id": "rUtSI_oDsk2U",
        "outputId": "115a069b-0647-490b-cb92-742d8b912cb8",
        "colab": {
          "base_uri": "https://localhost:8080/",
          "height": 34
        }
      },
      "source": [
        "#return\n",
        "def calculate(x,y):\n",
        "    return x+y  #22\n",
        "\n",
        "z=calculate(10,12) #22\n",
        "print(z)"
      ],
      "execution_count": 46,
      "outputs": [
        {
          "output_type": "stream",
          "text": [
            "22\n"
          ],
          "name": "stdout"
        }
      ]
    },
    {
      "cell_type": "code",
      "metadata": {
        "id": "Dg1dmtERtFAe",
        "outputId": "d33008b9-e4fb-4aa1-9de5-7974fbcded7e",
        "colab": {
          "base_uri": "https://localhost:8080/",
          "height": 34
        }
      },
      "source": [
        "# calculate sum of 23+24-67\n",
        "\n",
        "def calculate(x,y,z):\n",
        "  return x+y-z\n",
        "\n",
        "z=calculate(23,24,67)\n",
        "print(z)"
      ],
      "execution_count": 47,
      "outputs": [
        {
          "output_type": "stream",
          "text": [
            "-20\n"
          ],
          "name": "stdout"
        }
      ]
    },
    {
      "cell_type": "code",
      "metadata": {
        "id": "_gcUFXMhtz3W",
        "outputId": "1f7687f0-3697-45ba-a21d-c2e32d3fbe2a",
        "colab": {
          "base_uri": "https://localhost:8080/",
          "height": 68
        }
      },
      "source": [
        "#deafult parameter value\n",
        "#house=\"abc\"\n",
        "#house=\"ABC\"\n",
        "def anusha(house=\"XYZ\"):\n",
        "    print(house)\n",
        "\n",
        "anusha(\"abc\")\n",
        "anusha(\"ABC\")\n",
        "anusha()"
      ],
      "execution_count": 54,
      "outputs": [
        {
          "output_type": "stream",
          "text": [
            "abc\n",
            "ABC\n",
            "XYZ\n"
          ],
          "name": "stdout"
        }
      ]
    },
    {
      "cell_type": "code",
      "metadata": {
        "id": "9Np85GlEvCv2",
        "outputId": "f96b0189-2188-4b6e-e557-8dcdc8f4bfc8",
        "colab": {
          "base_uri": "https://localhost:8080/",
          "height": 34
        }
      },
      "source": [
        "#create a function whith sum of the values\n",
        "#  1 and 5   20 to 35\n",
        "# 1+2+3+4+5\n",
        "# return that value in k variable\n",
        "\n",
        "def sum(start,end):\n",
        "  sum=0\n",
        "  #start 1\n",
        "  #end 6    1<6\n",
        "  while(start<end):\n",
        "      sum=sum+start   #0+1+2+3+4+5   6<6\n",
        "      start=start+1\n",
        "  return sum\n",
        "\n",
        "k=sum(1,6)   #15\n",
        "print(k)\n"
      ],
      "execution_count": 60,
      "outputs": [
        {
          "output_type": "stream",
          "text": [
            "15\n"
          ],
          "name": "stdout"
        }
      ]
    },
    {
      "cell_type": "code",
      "metadata": {
        "id": "0VZn9zNQxPP0",
        "outputId": "864543e1-8b63-4b29-caf2-025bb560e782",
        "colab": {
          "base_uri": "https://localhost:8080/",
          "height": 34
        }
      },
      "source": [
        "def sum(start,end):\n",
        "  sum=0\n",
        "  while(start<end):\n",
        "    sum=sum+start\n",
        "    start=start+1\n",
        "\n",
        "  return sum\n",
        "k=sum(20,36)\n",
        "print(k)"
      ],
      "execution_count": 62,
      "outputs": [
        {
          "output_type": "stream",
          "text": [
            "440\n"
          ],
          "name": "stdout"
        }
      ]
    },
    {
      "cell_type": "code",
      "metadata": {
        "id": "eioa7J66ySo7"
      },
      "source": [
        "#creating functions   def\n",
        "#calling function\n",
        "#passing parameters\n",
        "#more no of parameters\n",
        "#arbitary arguments * like list\n",
        "#key word arguments  a=23 b=34 c=78\n",
        "\n",
        "#default parameter value\n",
        "\n",
        "#passing list as a parameter\n",
        "#returning the value\n"
      ],
      "execution_count": null,
      "outputs": []
    }
  ]
}