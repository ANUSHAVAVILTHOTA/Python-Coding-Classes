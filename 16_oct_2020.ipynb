{
  "nbformat": 4,
  "nbformat_minor": 0,
  "metadata": {
    "colab": {
      "name": "16-oct-2020.ipynb",
      "provenance": []
    },
    "kernelspec": {
      "name": "python3",
      "display_name": "Python 3"
    }
  },
  "cells": [
    {
      "cell_type": "code",
      "metadata": {
        "id": "0OD4f10lGh05"
      },
      "source": [
        "#Conditional staemets\n",
        "# if \n",
        "# if else\n",
        "# elif \n",
        "# nestedf\n",
        "# if else ladder"
      ],
      "execution_count": 1,
      "outputs": []
    },
    {
      "cell_type": "code",
      "metadata": {
        "id": "Lt4uF11qJR1x",
        "outputId": "4f9e26ed-1d36-4bcc-fadf-2ed6b46374a9",
        "colab": {
          "base_uri": "https://localhost:8080/",
          "height": 85
        }
      },
      "source": [
        "#if\n",
        "a=15\n",
        "b=50\n",
        "if a<b:\n",
        "    print(\"a\")\n",
        "    print(\"B is greater\")\n",
        "    print(\"If condition is true\")\n",
        "print(\"a\")"
      ],
      "execution_count": 7,
      "outputs": [
        {
          "output_type": "stream",
          "text": [
            "a\n",
            "B is greater\n",
            "If condition is true\n",
            "a\n"
          ],
          "name": "stdout"
        }
      ]
    },
    {
      "cell_type": "code",
      "metadata": {
        "id": "LyHY2dlTJ_Vi",
        "outputId": "6b871212-da66-4603-f51a-7bb228687cd9",
        "colab": {
          "base_uri": "https://localhost:8080/",
          "height": 68
        }
      },
      "source": [
        "# else\n",
        "a=12    #if condition:\n",
        "b=15\n",
        "if a>b:\n",
        "   print(\"a is not greater\")\n",
        "else:\n",
        "  print(\"b is greater\")\n",
        "  print(\"anusha\")\n",
        "  print(\"hello\")\n",
        "print(\"a\")"
      ],
      "execution_count": 10,
      "outputs": [
        {
          "output_type": "stream",
          "text": [
            "b is greater\n",
            "anusha\n",
            "hello\n"
          ],
          "name": "stdout"
        }
      ]
    },
    {
      "cell_type": "code",
      "metadata": {
        "id": "8N1ZNYIfK5Nb"
      },
      "source": [
        "#elif\n",
        "a=2\n",
        "b=3\n",
        "if (a>b) :\n",
        "  print(\"a\")\n",
        "elif (b>a):\n",
        "  print(\"a\")\n",
        "elif (b==a):\n",
        "  print(\"1\")\n",
        "else:\n",
        "   print(\"c\")"
      ],
      "execution_count": null,
      "outputs": []
    },
    {
      "cell_type": "code",
      "metadata": {
        "id": "yeJi7kT6LjJw",
        "outputId": "ff492bbe-b1d3-4656-b818-04861c199800",
        "colab": {
          "base_uri": "https://localhost:8080/",
          "height": 34
        }
      },
      "source": [
        "a=15\n",
        "b=15\n",
        "if (a>b or a==b):\n",
        "   print(\"hello\")"
      ],
      "execution_count": 18,
      "outputs": [
        {
          "output_type": "stream",
          "text": [
            "hello\n"
          ],
          "name": "stdout"
        }
      ]
    },
    {
      "cell_type": "code",
      "metadata": {
        "id": "IGvDPo2JMTM0",
        "outputId": "aa8a7695-d50c-47a9-9d69-da680413d9f5",
        "colab": {
          "base_uri": "https://localhost:8080/",
          "height": 34
        }
      },
      "source": [
        "#short hand if\n",
        "\n",
        "a=2\n",
        "b=30\n",
        "print(\"a\") if a<b else print(\"B\")"
      ],
      "execution_count": 16,
      "outputs": [
        {
          "output_type": "stream",
          "text": [
            "a\n"
          ],
          "name": "stdout"
        }
      ]
    },
    {
      "cell_type": "code",
      "metadata": {
        "id": "TVfY0F_ONGmr",
        "outputId": "579af2ba-d3df-42b7-a00d-d4305bcb3f19",
        "colab": {
          "base_uri": "https://localhost:8080/",
          "height": 51
        }
      },
      "source": [
        "#nested if\n",
        "\n",
        "x=40\n",
        "if x<10: \n",
        "   print(\"yes true\")\n",
        "   if (x>30):\n",
        "     print(\"yes above 30\")\n",
        "   else:\n",
        "    print(\"not above 30\")\n",
        "else:\n",
        "  print(\"not true\")\n",
        "  if(x!=40):\n",
        "    print(\"false\")\n",
        "    print(\"not true\")\n",
        "  else:\n",
        "    print(\"true\")"
      ],
      "execution_count": 24,
      "outputs": [
        {
          "output_type": "stream",
          "text": [
            "not true\n",
            "true\n"
          ],
          "name": "stdout"
        }
      ]
    },
    {
      "cell_type": "code",
      "metadata": {
        "id": "aq1z5rQtO-VU",
        "outputId": "6bc16837-c8e3-4689-f50d-02e52243096a",
        "colab": {
          "base_uri": "https://localhost:8080/",
          "height": 34
        }
      },
      "source": [
        "#if elif else ladder\n",
        "x=5\n",
        "if(x==10):\n",
        "  print(\"yes it is 10\")\n",
        "elif x>10:\n",
        "  print(\"x is greater\")\n",
        "# elif x<10:\n",
        "#   print(\"x is small\")\n",
        "\n",
        "else:\n",
        "  print(\"x\")"
      ],
      "execution_count": 30,
      "outputs": [
        {
          "output_type": "stream",
          "text": [
            "x\n"
          ],
          "name": "stdout"
        }
      ]
    },
    {
      "cell_type": "code",
      "metadata": {
        "id": "PWvwqbb6P_Dq",
        "outputId": "d48c84a9-9e61-4607-c506-e34e82e4acc5",
        "colab": {
          "base_uri": "https://localhost:8080/",
          "height": 34
        }
      },
      "source": [
        "#i want to check the number is even or odd number\n",
        "# 4   4%2=0   4/2=2\n",
        "n=6\n",
        "if (n%2==0):\n",
        "  print(\"n is even number\")\n",
        "else:\n",
        "  print(\"n is odd number\")"
      ],
      "execution_count": 32,
      "outputs": [
        {
          "output_type": "stream",
          "text": [
            "n is even number\n"
          ],
          "name": "stdout"
        }
      ]
    },
    {
      "cell_type": "code",
      "metadata": {
        "id": "UGA9WPcrQyDB",
        "outputId": "19418ef7-4f9e-4880-8178-d3fa068d7bdf",
        "colab": {
          "base_uri": "https://localhost:8080/",
          "height": 51
        }
      },
      "source": [
        "#sum of 5 numbers and i want to check whether that sum is greater than 100 or not\n",
        "a=10\n",
        "b=13\n",
        "c=5\n",
        "d=7\n",
        "e=6\n",
        "\n",
        "sum=a+b+c+d+e  #10+13+5+7+6 sum\n",
        "if(sum>100):\n",
        "  print(\"yes its greater\")\n",
        "else:\n",
        "  print(sum)\n",
        "  print(\"no its smaller\")"
      ],
      "execution_count": 34,
      "outputs": [
        {
          "output_type": "stream",
          "text": [
            "41\n",
            "no its smaller\n"
          ],
          "name": "stdout"
        }
      ]
    },
    {
      "cell_type": "code",
      "metadata": {
        "id": "p7nR4V3BSOef",
        "outputId": "4e6ba470-c792-4302-87a8-c661e5ab5f48",
        "colab": {
          "base_uri": "https://localhost:8080/",
          "height": 51
        }
      },
      "source": [
        "# i wnat to multiply 6 numbers and check that is divisible by 2 or not\n",
        "a=2\n",
        "b=3\n",
        "c=5\n",
        "d=7\n",
        "e=5\n",
        "f=7\n",
        "product=a*b*c*d*e*f\n",
        "if(product%2==0):\n",
        "  print(\"yes its divisible\")\n",
        "else:\n",
        "  print(\"no its not\")\n",
        "print(product)"
      ],
      "execution_count": 35,
      "outputs": [
        {
          "output_type": "stream",
          "text": [
            "yes its divisible\n",
            "7350\n"
          ],
          "name": "stdout"
        }
      ]
    },
    {
      "cell_type": "code",
      "metadata": {
        "id": "7ptqgKMWTJ7y",
        "outputId": "8ac54a66-f18e-4874-f837-ad51a405171e",
        "colab": {
          "base_uri": "https://localhost:8080/",
          "height": 51
        }
      },
      "source": [
        "#take a 2 numbers 34,56 check first number is odd number or not and also print sum of 2 numbers\n",
        "a=34\n",
        "b=56\n",
        "sum=a+b\n",
        "print(sum)\n",
        "if(a%2!=0):\n",
        "  print(\"first no is odd number\")\n",
        "else:\n",
        "  print(\"first no is even number\")"
      ],
      "execution_count": 39,
      "outputs": [
        {
          "output_type": "stream",
          "text": [
            "90\n",
            "first no is even number\n"
          ],
          "name": "stdout"
        }
      ]
    },
    {
      "cell_type": "code",
      "metadata": {
        "id": "WHSSqq7mUub5",
        "outputId": "d9bd48ba-5b7d-441e-b40d-5342095089ee",
        "colab": {
          "base_uri": "https://localhost:8080/",
          "height": 34
        }
      },
      "source": [
        "#  i want the difference between 2 numbers and check difference is ==200 or not\n",
        "a=120\n",
        "b=220\n",
        "diff=b-a\n",
        "if(diff==200):\n",
        "  print(\"yes\")\n",
        "else:\n",
        "  print(\"NO\")"
      ],
      "execution_count": 38,
      "outputs": [
        {
          "output_type": "stream",
          "text": [
            "NO\n"
          ],
          "name": "stdout"
        }
      ]
    },
    {
      "cell_type": "code",
      "metadata": {
        "id": "CkOJco4hXQmE",
        "outputId": "18db1488-721d-4b06-c9d8-b4d2e5762961",
        "colab": {
          "base_uri": "https://localhost:8080/",
          "height": 34
        }
      },
      "source": [
        "# take a 3 numbers and find the largest of 3 numbers\n",
        "\n",
        "a=10\n",
        "b=20   # we need to find which is greater\n",
        "c=5\n",
        "if (a>b and a>c):\n",
        "  print(\"a is greater\")\n",
        "elif (b>a and b>c):\n",
        "  print(\"b is greater\")\n",
        "else:\n",
        "  print(\"c is greater\")\n"
      ],
      "execution_count": 42,
      "outputs": [
        {
          "output_type": "stream",
          "text": [
            "b is greater\n"
          ],
          "name": "stdout"
        }
      ]
    },
    {
      "cell_type": "code",
      "metadata": {
        "id": "E171kz0NZHTH",
        "outputId": "b4c18e8e-e99a-4bc2-8439-50d5779d64b1",
        "colab": {
          "base_uri": "https://localhost:8080/",
          "height": 34
        }
      },
      "source": [
        "# i want to 5 numbers and sum of even numbers\n",
        "\n",
        "a=4\n",
        "b=6\n",
        "c=3\n",
        "d=8\n",
        "e=10\n",
        "sum=0\n",
        "if (a%2==0):\n",
        "  sum=sum+a   #0+4 === sum=4   sum=0+4   sum=4\n",
        "if (b%2==0) :\n",
        "  sum=sum+b   #4+6   sum=10    sum=4+6  sum=10\n",
        "if (c%2==0): \n",
        "  sum=sum+c    #sum=10         \n",
        "if (d%2==0): \n",
        "   sum=sum+d   #10+8=18         sum=10+8 sum=18\n",
        "if (e%2==0):\n",
        "  sum=sum+e   #18+10=28         sum=18+10 sum=28\n",
        "print(sum)\n",
        "\n"
      ],
      "execution_count": 44,
      "outputs": [
        {
          "output_type": "stream",
          "text": [
            "28\n"
          ],
          "name": "stdout"
        }
      ]
    },
    {
      "cell_type": "code",
      "metadata": {
        "id": "mnXceAFib_nZ",
        "outputId": "cc1889ff-e4c7-49f1-efaf-d47402f10dff",
        "colab": {
          "base_uri": "https://localhost:8080/",
          "height": 34
        }
      },
      "source": [
        "# check whether number is positive or negative or zero\n",
        "\n",
        "# >0 that is positive <0 that is negative number ==o the number 0\n",
        "\n",
        "# x=30\n",
        "# x=-3\n",
        "# x=0\n",
        "# if (x>0):\n",
        "#   print(\"x is positive\")\n",
        "# elif (x<0):\n",
        "#   print(\"x is negative\")\n",
        "# else:\n",
        "#   print(\"x is a zero\")\n",
        "x=30\n",
        "if (x>0):\n",
        "  print(\"x is positive\")\n",
        "if (x<0):\n",
        "  print(\"x is negative\")\n",
        "if (x==0):\n",
        "  print(\"x is a zero\")"
      ],
      "execution_count": 49,
      "outputs": [
        {
          "output_type": "stream",
          "text": [
            "x is positive\n"
          ],
          "name": "stdout"
        }
      ]
    },
    {
      "cell_type": "code",
      "metadata": {
        "id": "0cUr6OQvdI_V",
        "outputId": "4264593f-0446-46af-9c5b-26579bd445a4",
        "colab": {
          "base_uri": "https://localhost:8080/",
          "height": 34
        }
      },
      "source": [
        "#  check whether the no is between 10  to 20 or not\n",
        "\n",
        "# a=15  #it is between 10 and 20 True\n",
        "a=25  #it is  not between 10 and 20 True\n",
        "if(a>=10 and a<=20):\n",
        "  print(\"it is  b/n\")\n",
        "else:\n",
        "  print(\"not between\")  "
      ],
      "execution_count": 54,
      "outputs": [
        {
          "output_type": "stream",
          "text": [
            "not between\n"
          ],
          "name": "stdout"
        }
      ]
    }
  ]
}