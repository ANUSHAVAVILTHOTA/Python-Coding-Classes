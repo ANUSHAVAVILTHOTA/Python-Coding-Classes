{
  "nbformat": 4,
  "nbformat_minor": 0,
  "metadata": {
    "colab": {
      "name": "24-oct-2020.ipynb",
      "provenance": [],
      "collapsed_sections": []
    },
    "kernelspec": {
      "name": "python3",
      "display_name": "Python 3"
    }
  },
  "cells": [
    {
      "cell_type": "code",
      "metadata": {
        "id": "750MhJIHVkKh",
        "outputId": "50098f34-3894-4b54-9af6-7b0ac24e791e",
        "colab": {
          "base_uri": "https://localhost:8080/",
          "height": 34
        }
      },
      "source": [
        "#set operations\n",
        "a={1,2,3,4,5}  #{1,2,3,4,5,4,5,6,7,8}\n",
        "b={4,5,6,7,8} \n",
        "print(a.union(b))"
      ],
      "execution_count": 3,
      "outputs": [
        {
          "output_type": "stream",
          "text": [
            "{1, 2, 3, 4, 5, 6, 7, 8}\n"
          ],
          "name": "stdout"
        }
      ]
    },
    {
      "cell_type": "code",
      "metadata": {
        "id": "aFBhnb8nXCvZ",
        "outputId": "044fa34d-6592-4f52-928a-575321ee6fd3",
        "colab": {
          "base_uri": "https://localhost:8080/",
          "height": 34
        }
      },
      "source": [
        "a={1,2,3,4,5}  #{1,2,3,4,5,4,5,6,7,8}\n",
        "b={4,5,6,7,8} \n",
        "print(a|b)"
      ],
      "execution_count": 4,
      "outputs": [
        {
          "output_type": "stream",
          "text": [
            "{1, 2, 3, 4, 5, 6, 7, 8}\n"
          ],
          "name": "stdout"
        }
      ]
    },
    {
      "cell_type": "code",
      "metadata": {
        "id": "6cnIDWdiXJnj",
        "outputId": "6de54942-20c2-406e-90fb-f981499c3a66",
        "colab": {
          "base_uri": "https://localhost:8080/",
          "height": 34
        }
      },
      "source": [
        "a={1,2,3,4,5,10,12}  \n",
        "b={4,5,6,7,8,10,12}\n",
        "print(a.intersection(b))"
      ],
      "execution_count": 7,
      "outputs": [
        {
          "output_type": "stream",
          "text": [
            "{10, 12, 4, 5}\n"
          ],
          "name": "stdout"
        }
      ]
    },
    {
      "cell_type": "code",
      "metadata": {
        "id": "ubPWjK9iXcvZ",
        "outputId": "02bfe412-b14c-45c3-c3c1-706cc33e07dc",
        "colab": {
          "base_uri": "https://localhost:8080/",
          "height": 34
        }
      },
      "source": [
        "#difference\n",
        "a={1,2,3,4,5}   # a-b  {1,2,3}-{,6,7,8}\n",
        "b={4,5,6,7,8} \n",
        "print(a.difference(b))"
      ],
      "execution_count": 8,
      "outputs": [
        {
          "output_type": "stream",
          "text": [
            "{1, 2, 3}\n"
          ],
          "name": "stdout"
        }
      ]
    },
    {
      "cell_type": "code",
      "metadata": {
        "id": "jleoB0I3X0JS",
        "outputId": "08762309-ecf0-4278-82f7-5c73cb386924",
        "colab": {
          "base_uri": "https://localhost:8080/",
          "height": 34
        }
      },
      "source": [
        "#difference\n",
        "a={1,2,3,4,5,10,11,12}   # a-b  {1,2,3}-{4,5,6,7,8,10,11}\n",
        "b={4,5,6,7,8,10,11} \n",
        "print(a.difference(b))"
      ],
      "execution_count": 11,
      "outputs": [
        {
          "output_type": "stream",
          "text": [
            "{1, 2, 3, 12}\n"
          ],
          "name": "stdout"
        }
      ]
    },
    {
      "cell_type": "code",
      "metadata": {
        "id": "uIetOVftYK_y",
        "outputId": "1f9e5ec9-7064-4697-82ed-9282f05076b8",
        "colab": {
          "base_uri": "https://localhost:8080/",
          "height": 34
        }
      },
      "source": [
        "#difference\n",
        "a={1,2,3,4,5,10,11,12}   # a-b  {1,2,3}-{4,5,6,7,8,10,11}\n",
        "b={4,5,6,7,8,10,11} \n",
        "print(b.difference(a))"
      ],
      "execution_count": 12,
      "outputs": [
        {
          "output_type": "stream",
          "text": [
            "{8, 6, 7}\n"
          ],
          "name": "stdout"
        }
      ]
    },
    {
      "cell_type": "code",
      "metadata": {
        "id": "Kq3_fVGLYdIU",
        "outputId": "d8491e35-148e-4dcd-a5b0-12b5d1fbb810",
        "colab": {
          "base_uri": "https://localhost:8080/",
          "height": 34
        }
      },
      "source": [
        "#Dict\n",
        "\n",
        "anusha={\n",
        "    \"name\":\"Anu\",\n",
        "    \"year\":1999,\n",
        "    \"id\":\"R141070\"\n",
        "}\n",
        "print(anusha)"
      ],
      "execution_count": 22,
      "outputs": [
        {
          "output_type": "stream",
          "text": [
            "{'name': 'Anu', 'year': 1999, 'id': 'R141070'}\n"
          ],
          "name": "stdout"
        }
      ]
    },
    {
      "cell_type": "code",
      "metadata": {
        "id": "LsN4ut8VY5WE",
        "outputId": "8ecf503e-aa70-4a3f-bcaf-191690ccd852",
        "colab": {
          "base_uri": "https://localhost:8080/",
          "height": 34
        }
      },
      "source": [
        "#Accessing\n",
        "anusha1={\n",
        "    \"name\":\"Anu\",\n",
        "    \"year\":1999,\n",
        "    \"id\":\"R141065\"\n",
        "}\n",
        "print(anusha1[\"year\"])"
      ],
      "execution_count": 19,
      "outputs": [
        {
          "output_type": "stream",
          "text": [
            "1999\n"
          ],
          "name": "stdout"
        }
      ]
    },
    {
      "cell_type": "code",
      "metadata": {
        "id": "POQsL-uQZGsX",
        "outputId": "0ab66256-bae3-4df5-bd56-e7f7fe085c7c",
        "colab": {
          "base_uri": "https://localhost:8080/",
          "height": 51
        }
      },
      "source": [
        "print(anusha1[\"id\"])\n",
        "print(anusha[\"id\"])"
      ],
      "execution_count": 23,
      "outputs": [
        {
          "output_type": "stream",
          "text": [
            "R141065\n",
            "R141070\n"
          ],
          "name": "stdout"
        }
      ]
    },
    {
      "cell_type": "code",
      "metadata": {
        "id": "vX5slFLSZLtg",
        "outputId": "6286fdfb-e2fc-4670-97bc-5597f3efcc30",
        "colab": {
          "base_uri": "https://localhost:8080/",
          "height": 34
        }
      },
      "source": [
        "mydict={\n",
        "    \"name\":\"Anu\",\n",
        "    \"year\":1999,\n",
        "    \"id\":\"R141065\"\n",
        "}\n",
        "print(mydict.get(\"year\"))"
      ],
      "execution_count": 25,
      "outputs": [
        {
          "output_type": "stream",
          "text": [
            "1999\n"
          ],
          "name": "stdout"
        }
      ]
    },
    {
      "cell_type": "code",
      "metadata": {
        "id": "zaDLDtcbaQ1I",
        "outputId": "823fd18e-7eb9-4637-959e-7be026804af4",
        "colab": {
          "base_uri": "https://localhost:8080/",
          "height": 34
        }
      },
      "source": [
        "#changing values\n",
        "mydict={\n",
        "    \"name\":\"Anu\",\n",
        "    \"year\":1999,\n",
        "    \"id\":\"R141065\"\n",
        "}\n",
        "mydict[\"id\"]=\"R141048\"\n",
        "print(mydict)"
      ],
      "execution_count": 28,
      "outputs": [
        {
          "output_type": "stream",
          "text": [
            "{'name': 'Anu', 'year': 1999, 'id': 'R141048'}\n"
          ],
          "name": "stdout"
        }
      ]
    },
    {
      "cell_type": "code",
      "metadata": {
        "id": "9nmZgcfPa09P",
        "outputId": "ba2e0a5d-b3e0-48e8-8aed-ae216d04a63e",
        "colab": {
          "base_uri": "https://localhost:8080/",
          "height": 85
        }
      },
      "source": [
        "dict_1={\n",
        "    \"name\":\"ananya\",\n",
        "    \"year\":2007,\n",
        "    \"class\":8,\n",
        "    \"rollno\":31\n",
        "\n",
        "}\n",
        "print(dict_1)\n",
        "print(dict_1[\"rollno\"])\n",
        "print(dict_1.get(\"rollno\"))\n",
        "dict_1[\"class\"]=10\n",
        "print(dict_1)"
      ],
      "execution_count": 34,
      "outputs": [
        {
          "output_type": "stream",
          "text": [
            "{'name': 'ananya', 'year': 2007, 'class': 8, 'rollno': 31}\n",
            "31\n",
            "31\n",
            "{'name': 'ananya', 'year': 2007, 'class': 10, 'rollno': 31}\n"
          ],
          "name": "stdout"
        }
      ]
    },
    {
      "cell_type": "code",
      "metadata": {
        "id": "5Ql00xuWcBwI",
        "outputId": "4c9e84fb-10d7-46ee-cd45-c3dedb87ab99",
        "colab": {
          "base_uri": "https://localhost:8080/",
          "height": 187
        }
      },
      "source": [
        "#loop through dict\n",
        "dict_2={\n",
        "    \"name\":\"ananya\",\n",
        "    \"year\":2007,\n",
        "    \"class\":8,\n",
        "    \"rollno\":31,\n",
        "    \"age\":15\n",
        "\n",
        "}\n",
        "for x in dict_2:\n",
        "  print(x)\n",
        "for x in dict_2:\n",
        "  print(dict_2[x])"
      ],
      "execution_count": 37,
      "outputs": [
        {
          "output_type": "stream",
          "text": [
            "name\n",
            "year\n",
            "class\n",
            "rollno\n",
            "age\n",
            "ananya\n",
            "2007\n",
            "8\n",
            "31\n",
            "15\n"
          ],
          "name": "stdout"
        }
      ]
    },
    {
      "cell_type": "code",
      "metadata": {
        "id": "A5_9mzRBc0Xx",
        "outputId": "8c1ed69a-7cee-4ca3-ec52-feaa01e374e4",
        "colab": {
          "base_uri": "https://localhost:8080/",
          "height": 119
        }
      },
      "source": [
        "dict_4={\n",
        "    \"name\":\"hii\",\n",
        "    \"id\":123,\n",
        "    \"class\":13\n",
        "}\n",
        "for x in dict_4.keys():\n",
        "  print(x)\n",
        "for x in dict_4.values():\n",
        "  print(x)"
      ],
      "execution_count": 39,
      "outputs": [
        {
          "output_type": "stream",
          "text": [
            "name\n",
            "id\n",
            "class\n",
            "hii\n",
            "123\n",
            "13\n"
          ],
          "name": "stdout"
        }
      ]
    },
    {
      "cell_type": "code",
      "metadata": {
        "id": "RGoqsp3cdxR9",
        "outputId": "9da44422-414a-475b-9724-99a0a9cded42",
        "colab": {
          "base_uri": "https://localhost:8080/",
          "height": 153
        }
      },
      "source": [
        "# keys and values using 2 methods one is loop one is keys() and values()\n",
        "\n",
        "dict_5={\n",
        "    \"name\":\"ananya\",\n",
        "    \"year\":2007,\n",
        "    \"place\":\"xyz\",\n",
        "    \"school\":\"abc\"\n",
        "}\n",
        "for x in dict_5:\n",
        "  print(x)\n",
        "for i in dict_5:\n",
        "  print(dict_5[i])"
      ],
      "execution_count": 42,
      "outputs": [
        {
          "output_type": "stream",
          "text": [
            "name\n",
            "year\n",
            "place\n",
            "school\n",
            "ananya\n",
            "2007\n",
            "xyz\n",
            "abc\n"
          ],
          "name": "stdout"
        }
      ]
    },
    {
      "cell_type": "code",
      "metadata": {
        "id": "47IEupwbey1v",
        "outputId": "bc9d7f24-df50-4563-9ced-fa72454e7a85",
        "colab": {
          "base_uri": "https://localhost:8080/",
          "height": 153
        }
      },
      "source": [
        "\n",
        "dict_6={\n",
        "    \"name\":\"ananya\",\n",
        "    \"year\":2007,\n",
        "    \"place\":\"xyz\",\n",
        "    \"school\":\"abc\"\n",
        "}\n",
        "for x in dict_6.keys():\n",
        "  print(x)\n",
        "for x in dict_6.values():\n",
        "  print(x)"
      ],
      "execution_count": 45,
      "outputs": [
        {
          "output_type": "stream",
          "text": [
            "name\n",
            "year\n",
            "place\n",
            "school\n",
            "ananya\n",
            "2007\n",
            "xyz\n",
            "abc\n"
          ],
          "name": "stdout"
        }
      ]
    },
    {
      "cell_type": "code",
      "metadata": {
        "id": "Qqu21yd_fnzU",
        "outputId": "c6c1b5fa-9909-4b61-8b6a-10480c25b71d",
        "colab": {
          "base_uri": "https://localhost:8080/",
          "height": 68
        }
      },
      "source": [
        "dict_7={\n",
        "  \"name\":\"anu\",\n",
        "  \"place\":\"xyz\",\n",
        "  \"age\":123\n",
        "}\n",
        "for i,j in dict_7.items():\n",
        "  print(i,j)"
      ],
      "execution_count": 50,
      "outputs": [
        {
          "output_type": "stream",
          "text": [
            "name anu\n",
            "place xyz\n",
            "age 123\n"
          ],
          "name": "stdout"
        }
      ]
    },
    {
      "cell_type": "code",
      "metadata": {
        "id": "WI_PdGX7gpZs",
        "outputId": "48f202fb-453f-49ae-d5af-071a4ed4b2da",
        "colab": {
          "base_uri": "https://localhost:8080/",
          "height": 34
        }
      },
      "source": [
        "dict_7={\n",
        "  \"name\":\"anu\",\n",
        "  \"place\":\"xyz\",\n",
        "  \"age\":123,\n",
        "  \"dfh\":346,\n",
        "  \"xyz1\":1245\n",
        "}\n",
        "# print(len(dict_7))\n",
        "\n",
        "if \"xyz\" in dict_7:\n",
        "   print(\"yes\")\n",
        "else:\n",
        "  print(\"No\")"
      ],
      "execution_count": 62,
      "outputs": [
        {
          "output_type": "stream",
          "text": [
            "No\n"
          ],
          "name": "stdout"
        }
      ]
    },
    {
      "cell_type": "code",
      "metadata": {
        "id": "wJAyROJqhrrz",
        "outputId": "20896906-85ec-4198-cbf2-fc35dc60b872",
        "colab": {
          "base_uri": "https://localhost:8080/",
          "height": 34
        }
      },
      "source": [
        "#adding items\n",
        "dict_7={\n",
        "  \"name\":\"anu\",\n",
        "  \"place\":\"xyz\",\n",
        "  \"age\":123\n",
        "}\n",
        "dict_7[\"color\"]=\"blue\"\n",
        "dict_7[\"class\"]=10\n",
        "print(dict_7)"
      ],
      "execution_count": 64,
      "outputs": [
        {
          "output_type": "stream",
          "text": [
            "{'name': 'anu', 'place': 'xyz', 'age': 123, 'color': 'blue', 'class': 10}\n"
          ],
          "name": "stdout"
        }
      ]
    },
    {
      "cell_type": "code",
      "metadata": {
        "id": "qc3z8MQAiPjz",
        "outputId": "a9ba4df7-2ce9-4001-f785-ca8268759133",
        "colab": {
          "base_uri": "https://localhost:8080/",
          "height": 34
        }
      },
      "source": [
        "#remove\n",
        "dict_7={\n",
        "  \"name\":\"anu\",\n",
        "  \"place\":\"xyz\",\n",
        "  \"age\":123\n",
        "}\n",
        "dict_7.pop(\"place\")\n",
        "print(dict_7)"
      ],
      "execution_count": 66,
      "outputs": [
        {
          "output_type": "stream",
          "text": [
            "{'name': 'anu', 'age': 123}\n"
          ],
          "name": "stdout"
        }
      ]
    },
    {
      "cell_type": "code",
      "metadata": {
        "id": "GbdbT2CLifqF",
        "outputId": "301938ed-6cc8-4ccc-d86a-f81d61796e09",
        "colab": {
          "base_uri": "https://localhost:8080/",
          "height": 51
        }
      },
      "source": [
        "dict_7={\n",
        "  \"name\":\"anu\",\n",
        "  \"place\":\"xyz\",\n",
        "  \"age\":123\n",
        "}\n",
        "print(dict_7)\n",
        "dict_7[\"fav\"]=\"apple\"\n",
        "print(dict_7)\n"
      ],
      "execution_count": 70,
      "outputs": [
        {
          "output_type": "stream",
          "text": [
            "{'name': 'anu', 'place': 'xyz', 'age': 123}\n",
            "{'name': 'anu', 'place': 'xyz', 'age': 123, 'fav': 'apple'}\n"
          ],
          "name": "stdout"
        }
      ]
    },
    {
      "cell_type": "code",
      "metadata": {
        "id": "mSCcfuJhjV97",
        "outputId": "2026d621-bfc3-4f3b-fee0-d1eaad90ba91",
        "colab": {
          "base_uri": "https://localhost:8080/",
          "height": 51
        }
      },
      "source": [
        "dict_7={\n",
        "  \"name\":\"anu\",\n",
        "  \"place\":\"xyz\",\n",
        "  \"age\":123,\n",
        "  \"color\":\"blue\"\n",
        "}\n",
        "print(dict_7)\n",
        "dict_7.pop(\"place\")\n",
        "print(dict_7)"
      ],
      "execution_count": 74,
      "outputs": [
        {
          "output_type": "stream",
          "text": [
            "{'name': 'anu', 'place': 'xyz', 'age': 123, 'color': 'blue'}\n",
            "{'name': 'anu', 'age': 123, 'color': 'blue'}\n"
          ],
          "name": "stdout"
        }
      ]
    },
    {
      "cell_type": "code",
      "metadata": {
        "id": "LfoPfzQsk8Rq",
        "outputId": "fa514f77-f0f9-4af3-ae32-145f18b53e86",
        "colab": {
          "base_uri": "https://localhost:8080/",
          "height": 68
        }
      },
      "source": [
        "dict_7={\n",
        "  \"name\":\"anu\",\n",
        "  \"place\":\"xyz\",\n",
        "  \"age\":123,\n",
        "  \"color\":\"blue\"\n",
        "}\n",
        "print(dict_7)\n",
        "dict_7[\"food\"]=\"maggy\"\n",
        "print(dict_7)\n",
        "dict_7.pop(\"age\")\n",
        "print(dict_7)"
      ],
      "execution_count": 77,
      "outputs": [
        {
          "output_type": "stream",
          "text": [
            "{'name': 'anu', 'place': 'xyz', 'age': 123, 'color': 'blue'}\n",
            "{'name': 'anu', 'place': 'xyz', 'age': 123, 'color': 'blue', 'food': 'maggy'}\n",
            "{'name': 'anu', 'place': 'xyz', 'color': 'blue', 'food': 'maggy'}\n"
          ],
          "name": "stdout"
        }
      ]
    },
    {
      "cell_type": "code",
      "metadata": {
        "id": "ggQw3XOXlss9",
        "outputId": "3b573611-b45b-42a0-db5b-b156f0782146",
        "colab": {
          "base_uri": "https://localhost:8080/",
          "height": 51
        }
      },
      "source": [
        "dict_7={\n",
        "  \"name\":\"anu\",\n",
        "  \"place\":\"xyz\",\n",
        "  \"age\":123,\n",
        "  \"color\":\"blue\"\n",
        "}\n",
        "print(dict_7)\n",
        "dict_7.clear()\n",
        "print(dict_7)"
      ],
      "execution_count": 78,
      "outputs": [
        {
          "output_type": "stream",
          "text": [
            "{'name': 'anu', 'place': 'xyz', 'age': 123, 'color': 'blue'}\n",
            "{}\n"
          ],
          "name": "stdout"
        }
      ]
    },
    {
      "cell_type": "code",
      "metadata": {
        "id": "Mv3H7fYjl_uk",
        "outputId": "6a838b0b-bcf2-427e-899a-3dd3e2623eed",
        "colab": {
          "base_uri": "https://localhost:8080/",
          "height": 34
        }
      },
      "source": [
        "dict_7={\n",
        "  \"name\":\"anu\",\n",
        "  \"place\":\"xyz\",\n",
        "  \"age\":123,\n",
        "  \"color\":\"blue\"\n",
        "}\n",
        "dict_8=dict_7.copy()\n",
        "print(dict_8)"
      ],
      "execution_count": 79,
      "outputs": [
        {
          "output_type": "stream",
          "text": [
            "{'name': 'anu', 'place': 'xyz', 'age': 123, 'color': 'blue'}\n"
          ],
          "name": "stdout"
        }
      ]
    },
    {
      "cell_type": "code",
      "metadata": {
        "id": "4jhFQb1bmVnn",
        "outputId": "f0c7e1db-01c8-4bf5-cd67-1db539410d92",
        "colab": {
          "base_uri": "https://localhost:8080/",
          "height": 54
        }
      },
      "source": [
        "#nested dicts\n",
        "dict_8={\n",
        "  \"name\":\"anu\",\n",
        "  \"place\":\"xyz\",\n",
        "  \"age\":123,\n",
        "  \"color\":\"blue\"\n",
        "}\n",
        "dict_9={\n",
        "  \"name\":\"anu1\",\n",
        "  \"place\":\"xyz\",\n",
        "  \"age\":123,\n",
        "  \"color\":\"blue\"\n",
        "}\n",
        "dict_6={\n",
        "  \"name\":\"anu2\",\n",
        "  \"place\":\"xyz\",\n",
        "  \"age\":123,\n",
        "  \"color\":\"blue\"\n",
        "}\n",
        "\n",
        "family={\n",
        "    \"first dict\":dict_8,\n",
        "    \"sec dict\":dict_9,\n",
        "    \"third dict\":dict_6\n",
        "}\n",
        "print(family)\n"
      ],
      "execution_count": 81,
      "outputs": [
        {
          "output_type": "stream",
          "text": [
            "{'first dict': {'name': 'anu', 'place': 'xyz', 'age': 123, 'color': 'blue'}, 'sec dict': {'name': 'anu1', 'place': 'xyz', 'age': 123, 'color': 'blue'}, 'third dict': {'name': 'anu2', 'place': 'xyz', 'age': 123, 'color': 'blue'}}\n"
          ],
          "name": "stdout"
        }
      ]
    },
    {
      "cell_type": "code",
      "metadata": {
        "id": "v2JiK319nfei",
        "outputId": "7fa09f71-c8e2-4dc4-b535-f2fa1d7dbf06",
        "colab": {
          "base_uri": "https://localhost:8080/",
          "height": 54
        }
      },
      "source": [
        "dict_2={\n",
        "  \"name\":\"anu1\",\n",
        "  \"place\":\"xyz\",\n",
        "  \"age\":123,\n",
        "  \"color\":\"blue\"\n",
        "}\n",
        "dict_3={\n",
        "  \"name\":\"anu2\",\n",
        "  \"place\":\"xyz\",\n",
        "  \"age\":123,\n",
        "  \"color\":\"blue\"\n",
        "}\n",
        "dict_4={\n",
        "    \"name\":\"vaishnavee\",\n",
        "    \"age\":234,\n",
        "    \"place\":\"xyz\"\n",
        "}\n",
        "anusha={\n",
        "    \"anu1\":dict_2,\n",
        "    \"anu2\":dict_3,\n",
        "    \"anu3\":dict_4\n",
        "}\n",
        "print(anusha)"
      ],
      "execution_count": 86,
      "outputs": [
        {
          "output_type": "stream",
          "text": [
            "{'anu1': {'name': 'anu1', 'place': 'xyz', 'age': 123, 'color': 'blue'}, 'anu2': {'name': 'anu2', 'place': 'xyz', 'age': 123, 'color': 'blue'}, 'anu3': {'name': 'vaishnavee', 'age': 234, 'place': 'xyz'}}\n"
          ],
          "name": "stdout"
        }
      ]
    },
    {
      "cell_type": "code",
      "metadata": {
        "id": "8RL8VHRHoyr_",
        "outputId": "5265b82f-4064-46ce-899a-cdbea381b741",
        "colab": {
          "base_uri": "https://localhost:8080/",
          "height": 34
        }
      },
      "source": [
        "#using dict\n",
        "\n",
        "my_dict=dict(name=\"Anusha\",age=123,year=12,color=\"blue\",place=\"xyz\")\n",
        "print(my_dict) "
      ],
      "execution_count": 90,
      "outputs": [
        {
          "output_type": "stream",
          "text": [
            "{'name': 'Anusha', 'age': 123, 'year': 12, 'color': 'blue', 'place': 'xyz'}\n"
          ],
          "name": "stdout"
        }
      ]
    },
    {
      "cell_type": "code",
      "metadata": {
        "id": "z55jdwZnpcHl",
        "outputId": "9f486b77-3ce3-45c6-a821-f20a8bd53920",
        "colab": {
          "base_uri": "https://localhost:8080/",
          "height": 34
        }
      },
      "source": [
        "#formkeys()\n",
        "x=('name',\"age\",\"color\")\n",
        "y=\"anu\"\n",
        "my_dict=my_dict.fromkeys(x,y)\n",
        "print(my_dict)"
      ],
      "execution_count": 93,
      "outputs": [
        {
          "output_type": "stream",
          "text": [
            "{'name': 'anu', 'age': 'anu', 'color': 'anu'}\n"
          ],
          "name": "stdout"
        }
      ]
    },
    {
      "cell_type": "code",
      "metadata": {
        "id": "sCIDodblp-MQ",
        "outputId": "06bf2857-761d-44c4-b8ba-f8e01d476f0e",
        "colab": {
          "base_uri": "https://localhost:8080/",
          "height": 51
        }
      },
      "source": [
        "#setdefault\n",
        "anusha={\n",
        "    \"anu1\":\"anusha\",\n",
        "    \"anu2\":\"123\",\n",
        "    \"anu3\":\"xyz\"    #anu3=abc\n",
        "}\n",
        "print(anusha)\n",
        "x=anusha.setdefault(\"anu3\",\"abc\")\n",
        "print(anusha)"
      ],
      "execution_count": 99,
      "outputs": [
        {
          "output_type": "stream",
          "text": [
            "{'anu1': 'anusha', 'anu2': '123', 'anu3': 'xyz'}\n",
            "{'anu1': 'anusha', 'anu2': '123', 'anu3': 'xyz'}\n"
          ],
          "name": "stdout"
        }
      ]
    },
    {
      "cell_type": "code",
      "metadata": {
        "id": "_o4vAtRgqV8a",
        "outputId": "dac83ec1-f1e3-49a4-da0c-2f99f0449a76",
        "colab": {
          "base_uri": "https://localhost:8080/",
          "height": 51
        }
      },
      "source": [
        "anusha={\n",
        "    \"anu1\":\"anusha\",\n",
        "    \"anu2\":\"123\"\n",
        "}\n",
        "print(anusha)\n",
        "x=anusha.setdefault(\"anu3\",\"abc\")\n",
        "print(anusha)\n",
        "# print(x)"
      ],
      "execution_count": 98,
      "outputs": [
        {
          "output_type": "stream",
          "text": [
            "{'anu1': 'anusha', 'anu2': '123'}\n",
            "{'anu1': 'anusha', 'anu2': '123', 'anu3': 'abc'}\n"
          ],
          "name": "stdout"
        }
      ]
    },
    {
      "cell_type": "code",
      "metadata": {
        "id": "WlDBB6IXrpbt",
        "outputId": "81eeefdd-d109-4fd0-ab9e-40b2cdcd475d",
        "colab": {
          "base_uri": "https://localhost:8080/",
          "height": 51
        }
      },
      "source": [
        "anusha={\n",
        "    \"anu1\":\"anusha\",\n",
        "    \"anu2\":\"123\"\n",
        "    \n",
        "}\n",
        "print(anusha)\n",
        "# ayushi 123\n",
        "x=anusha.setdefault(\"ayushi\",123)\n",
        "print(anusha)"
      ],
      "execution_count": 104,
      "outputs": [
        {
          "output_type": "stream",
          "text": [
            "{'anu1': 'anusha', 'anu2': '123'}\n",
            "{'anu1': 'anusha', 'anu2': '123', 'ayushi': 123}\n"
          ],
          "name": "stdout"
        }
      ]
    },
    {
      "cell_type": "code",
      "metadata": {
        "id": "PwNEDbRQsRrx",
        "outputId": "27f2b91d-c447-40c8-ed86-beea5919b883",
        "colab": {
          "base_uri": "https://localhost:8080/",
          "height": 34
        }
      },
      "source": [
        "anusha={\n",
        "    \"name\":\"anusha\",\n",
        "    \"age\":\"123\"\n",
        "    \n",
        "}\n",
        "x=anusha.setdefault(\"vaishnavee\",234)\n",
        "print(anusha)"
      ],
      "execution_count": 105,
      "outputs": [
        {
          "output_type": "stream",
          "text": [
            "{'name': 'anusha', 'age': '123', 'vaishnavee': 234}\n"
          ],
          "name": "stdout"
        }
      ]
    },
    {
      "cell_type": "code",
      "metadata": {
        "id": "BJex5zDlsijl"
      },
      "source": [
        "#creating dict\n",
        "#changing values\n",
        "#accessing values\n",
        "#loop through keys and values\n",
        "#same using keys and values() functions\n",
        "#lenght function\n",
        "#adding \n",
        "#removing\n",
        "#pop\n",
        "#clear\n",
        "#copy\n",
        "#formkeys\n",
        "#setdefault"
      ],
      "execution_count": null,
      "outputs": []
    },
    {
      "cell_type": "code",
      "metadata": {
        "id": "9YuSR9advFTr",
        "outputId": "90cb3ce0-e95f-4507-f051-10412b51b76d",
        "colab": {
          "base_uri": "https://localhost:8080/",
          "height": 34
        }
      },
      "source": [
        "anu=(1,2,3,4)\n",
        "print(anu[-3])"
      ],
      "execution_count": 109,
      "outputs": [
        {
          "output_type": "stream",
          "text": [
            "2\n"
          ],
          "name": "stdout"
        }
      ]
    }
  ]
}