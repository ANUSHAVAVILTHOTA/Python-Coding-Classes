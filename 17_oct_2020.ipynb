{
  "nbformat": 4,
  "nbformat_minor": 0,
  "metadata": {
    "colab": {
      "name": "17-oct-2020.ipynb",
      "provenance": []
    },
    "kernelspec": {
      "name": "python3",
      "display_name": "Python 3"
    }
  },
  "cells": [
    {
      "cell_type": "code",
      "metadata": {
        "id": "aYWcHvh5QClc"
      },
      "source": [
        "#loops\n",
        "#while loops\n",
        "#for loops\n",
        "\n"
      ],
      "execution_count": 2,
      "outputs": []
    },
    {
      "cell_type": "code",
      "metadata": {
        "id": "Q4UuUZW3TFxW",
        "outputId": "5b9771bd-5b74-451e-80e0-4ae9a5e54ecf",
        "colab": {
          "base_uri": "https://localhost:8080/",
          "height": 102
        }
      },
      "source": [
        "#1,2,3,4,.....10\n",
        "\n",
        "x=5;\n",
        "while (x<10):  # 1<=10     2<=10 ..................11<=10      5,6,7,8,9,10,11\n",
        "  print(x)     #1        #2\n",
        "  x=x+1    #x=2            x=3"
      ],
      "execution_count": 7,
      "outputs": [
        {
          "output_type": "stream",
          "text": [
            "5\n",
            "6\n",
            "7\n",
            "8\n",
            "9\n"
          ],
          "name": "stdout"
        }
      ]
    },
    {
      "cell_type": "code",
      "metadata": {
        "id": "oJzT84GDUWU6",
        "outputId": "6f8dbe44-2468-49c8-9422-040b2d21e875",
        "colab": {
          "base_uri": "https://localhost:8080/",
          "height": 102
        }
      },
      "source": [
        "# 20 to 25\n",
        "# even or odd   if want 10 25  10 100\n",
        "x=20\n",
        "#20<=40\n",
        "while(x<25):   #20<25   21<25   #22<25    23<25   24<25    25<25   come out of the loop\n",
        "  print(x)      #20     #21     #22       #23     #24\n",
        "  x=x+1      #21      #22     #23       #24     #25\n"
      ],
      "execution_count": 26,
      "outputs": [
        {
          "output_type": "stream",
          "text": [
            "20\n",
            "21\n",
            "22\n",
            "23\n",
            "24\n"
          ],
          "name": "stdout"
        }
      ]
    },
    {
      "cell_type": "code",
      "metadata": {
        "id": "BlU6vXB8W_jN",
        "outputId": "926912c6-4aa2-45d2-eb83-0d6385957914",
        "colab": {
          "base_uri": "https://localhost:8080/",
          "height": 425
        }
      },
      "source": [
        "#if we want 10 to 25   10%2==0  0==0\n",
        "x=10\n",
        "while(x<=25):  \n",
        "  x=x+1\n",
        "  if (x%2==0):  #10%2==0  10/2==5  0==0   11<=25   11%2==0   1===0   11%2==1\n",
        "    print(x)\n",
        "    print(\"yes it is even number\") \n",
        "  else:\n",
        "    print(\"odd number\",x)\n",
        " \n"
      ],
      "execution_count": 36,
      "outputs": [
        {
          "output_type": "stream",
          "text": [
            "odd number 11\n",
            "12\n",
            "yes it is even number\n",
            "odd number 13\n",
            "14\n",
            "yes it is even number\n",
            "odd number 15\n",
            "16\n",
            "yes it is even number\n",
            "odd number 17\n",
            "18\n",
            "yes it is even number\n",
            "odd number 19\n",
            "20\n",
            "yes it is even number\n",
            "odd number 21\n",
            "22\n",
            "yes it is even number\n",
            "odd number 23\n",
            "24\n",
            "yes it is even number\n",
            "odd number 25\n",
            "26\n",
            "yes it is even number\n"
          ],
          "name": "stdout"
        }
      ]
    },
    {
      "cell_type": "code",
      "metadata": {
        "id": "5gkGp9HlZMk2",
        "outputId": "b129d32d-02ab-4117-d7e3-9ee5c3dc4fab",
        "colab": {
          "base_uri": "https://localhost:8080/",
          "height": 34
        }
      },
      "source": [
        "# if i want sum of 4 numbers 1 to 4\n",
        "\n",
        "x=1\n",
        "sum=0\n",
        "while (x<=4):   #1,2,3,4     0+1+2+3+4   0*1*2*3*4=0 1*1*2*3*4=0\n",
        "    sum=sum+x\n",
        "    x=x+1\n",
        "print(sum)"
      ],
      "execution_count": 39,
      "outputs": [
        {
          "output_type": "stream",
          "text": [
            "10\n"
          ],
          "name": "stdout"
        }
      ]
    },
    {
      "cell_type": "code",
      "metadata": {
        "id": "l_1D1g_aZkR7"
      },
      "source": [
        "# x=1\n",
        "# sum=0\n",
        "# while(1<=4):\n",
        "#     sum=0+1=1\n",
        "#     x=1+1=2\n",
        "# while(2<=4):\n",
        "#   sum=sum1+x2=3\n",
        "#   x=2+1 =3\n",
        "# while(3<=4):\n",
        "#   sum=3+3=6\n",
        "#   x=3+1=4\n",
        "# while(4<=4):\n",
        "#   sum=6+4 =10\n",
        "#   x=4+1=5\n",
        "# while(5<=4)\n",
        "#   exit out of while loop\n",
        "# finally it fill print previous value of sum"
      ],
      "execution_count": null,
      "outputs": []
    },
    {
      "cell_type": "code",
      "metadata": {
        "id": "SvD1EEzEb0t8",
        "outputId": "1b1f8fbd-8d73-474d-920a-5b791ebc32f0",
        "colab": {
          "base_uri": "https://localhost:8080/",
          "height": 34
        }
      },
      "source": [
        "# i wnat to print product of 1 st 3 numbers\n",
        "# 1*2*3    *3*4*5*6  1*3*4*5*6   1,2,3 0+1+2+3\n",
        "#0*1 =0\n",
        "x=3\n",
        "product=1   1*3*4*5*6\n",
        "while(x<=6):\n",
        "  product=product*x\n",
        "  x=x+1\n",
        "print(product)"
      ],
      "execution_count": 42,
      "outputs": [
        {
          "output_type": "stream",
          "text": [
            "360\n"
          ],
          "name": "stdout"
        }
      ]
    },
    {
      "cell_type": "code",
      "metadata": {
        "id": "KJJj76ZHcyCD"
      },
      "source": [
        "x=3\n",
        "p=1\n",
        "while(1<=3):\n",
        "  p=1*1=1\n",
        "  x=1+1=2   #p=1 x=2\n",
        "\n",
        "while(2<=3):\n",
        "  p=1*2 =2\n",
        "  x=2+1 =3     #p=2 x=3\n",
        "\n",
        "while(3<=3):\n",
        "  p=2*3 =6\n",
        "  x=3+1 =4   #p=6 x=4\n",
        " "
      ],
      "execution_count": null,
      "outputs": []
    },
    {
      "cell_type": "code",
      "metadata": {
        "id": "DaeRMOaGe6HR",
        "outputId": "f9677f85-8849-4e3f-b75a-3c205d2d50e9",
        "colab": {
          "base_uri": "https://localhost:8080/",
          "height": 119
        }
      },
      "source": [
        "i = 1\n",
        "while i < 6:  #1<6       2<6    3<6         4<6      6<6  this is  false\n",
        "  print(i)   #1            #2    #3          #4\n",
        "  i=i+ 1      #i=1+1 =2     #i=2+1=3    #3+1   i=4+1\n",
        "print(\"finally loop exit\")\n"
      ],
      "execution_count": 49,
      "outputs": [
        {
          "output_type": "stream",
          "text": [
            "1\n",
            "2\n",
            "3\n",
            "4\n",
            "5\n",
            "finally loop exit\n"
          ],
          "name": "stdout"
        }
      ]
    },
    {
      "cell_type": "code",
      "metadata": {
        "id": "3n-1n4Z8gapS",
        "outputId": "f6dbed67-48e6-4ea2-ce21-f2d9adf97dd7",
        "colab": {
          "base_uri": "https://localhost:8080/",
          "height": 119
        }
      },
      "source": [
        "# 10 to 15\n",
        "\n",
        "i=10\n",
        "while i<16:\n",
        "  print(i)\n",
        "  i=i+1\n",
        "  \n"
      ],
      "execution_count": 53,
      "outputs": [
        {
          "output_type": "stream",
          "text": [
            "10\n",
            "11\n",
            "12\n",
            "13\n",
            "14\n",
            "15\n"
          ],
          "name": "stdout"
        }
      ]
    },
    {
      "cell_type": "code",
      "metadata": {
        "id": "R-BJFo9EhAil",
        "outputId": "4af55893-df37-4688-9e54-79cff4be20c6",
        "colab": {
          "base_uri": "https://localhost:8080/",
          "height": 102
        }
      },
      "source": [
        "# even numbers b/n 1 to 10\n",
        "x=1\n",
        "while(x<=10):\n",
        "   if(x%2==0):    # 1%2==0 \n",
        "     print(x)      # 11111111111111111111111111111111\n",
        "   x=x+1   #1,2,3,4,5....10\n"
      ],
      "execution_count": 62,
      "outputs": [
        {
          "output_type": "stream",
          "text": [
            "2\n",
            "4\n",
            "6\n",
            "8\n",
            "10\n"
          ],
          "name": "stdout"
        }
      ]
    },
    {
      "cell_type": "code",
      "metadata": {
        "id": "7iIkEChEiYGC",
        "outputId": "e2fdbe93-e57f-4aef-94c2-5115ebc7a22b",
        "colab": {
          "base_uri": "https://localhost:8080/",
          "height": 204
        }
      },
      "source": [
        "# i want to print odd no b/n 25 to 45\n",
        "\n",
        "x=25\n",
        "while(x<=45):\n",
        "  if(x%2!=0):\n",
        "    print(x)\n",
        "  x=x+1"
      ],
      "execution_count": 64,
      "outputs": [
        {
          "output_type": "stream",
          "text": [
            "25\n",
            "27\n",
            "29\n",
            "31\n",
            "33\n",
            "35\n",
            "37\n",
            "39\n",
            "41\n",
            "43\n",
            "45\n"
          ],
          "name": "stdout"
        }
      ]
    },
    {
      "cell_type": "code",
      "metadata": {
        "id": "6uRQfrSPi1GS",
        "outputId": "32914761-b6e6-4720-e728-2616aeb1e239",
        "colab": {
          "base_uri": "https://localhost:8080/",
          "height": 34
        }
      },
      "source": [
        "# i want to print sum of 1 to 5     1+2+3+4+5\n",
        "\n",
        "x=1\n",
        "sum=0\n",
        "while(x<=5): \n",
        "  sum=sum+x   \n",
        "  x=x+1\n",
        "print(sum)\n"
      ],
      "execution_count": 66,
      "outputs": [
        {
          "output_type": "stream",
          "text": [
            "15\n"
          ],
          "name": "stdout"
        }
      ]
    },
    {
      "cell_type": "code",
      "metadata": {
        "id": "Aup4MQtmlkmP"
      },
      "source": [
        "# printing 1 to 5\n",
        "# printing 10 to 15\n",
        "# even numbers 1 10 10\n",
        "# odd numbers 1 to 10\n",
        "#sum of 1 to 5"
      ],
      "execution_count": null,
      "outputs": []
    }
  ]
}