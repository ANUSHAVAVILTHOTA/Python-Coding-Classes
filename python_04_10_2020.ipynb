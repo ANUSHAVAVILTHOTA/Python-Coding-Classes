{
  "nbformat": 4,
  "nbformat_minor": 0,
  "metadata": {
    "colab": {
      "name": "python 04-10-2020.ipynb",
      "provenance": []
    },
    "kernelspec": {
      "name": "python3",
      "display_name": "Python 3"
    }
  },
  "cells": [
    {
      "cell_type": "code",
      "metadata": {
        "id": "HaoNtMLVTUN2",
        "outputId": "882eb012-7b5a-42fe-c38a-6cf48107a95c",
        "colab": {
          "base_uri": "https://localhost:8080/",
          "height": 85
        }
      },
      "source": [
        "# Type casting\n",
        "# converting int to float type\n",
        "# int  numbers      float decimal points 4.0 strings ''\n",
        "\n",
        "# int() float() str()\n",
        "# type()\n",
        "\n",
        "g=4\n",
        "print(x)\n",
        "print(type(x))   # 4\n",
        "\n",
        "y=float(g)   # 4.0 =y\n",
        "print(y)\n",
        "print(type(y))  \n",
        "\n",
        "# y=str(z)\n",
        "# print(y)\n",
        "# print(type(y)) #  '4' or \"4\"\n",
        "\n",
        "# s=4.5  #float \n",
        "# print(s)\n",
        "# print(type(s))\n",
        "# r=int(s)\n",
        "# print(r)\n",
        "# print(type(r))\n",
        "\n",
        "# w=str(s)\n",
        "# print(w)\n",
        "# print(type(w))\n",
        "\n",
        "# g='3' #str\n",
        "# print(g)\n",
        "# print(type(g))\n",
        "# b=int(g)\n",
        "# print(b)\n",
        "# print(type(b))\n",
        "\n",
        "# h=float(g)\n",
        "# print(h)\n",
        "# print(type(h))\n"
      ],
      "execution_count": 69,
      "outputs": [
        {
          "output_type": "stream",
          "text": [
            "4\n",
            "<class 'int'>\n",
            "4.0\n",
            "<class 'float'>\n"
          ],
          "name": "stdout"
        }
      ]
    },
    {
      "cell_type": "code",
      "metadata": {
        "id": "9aj3QUX8ekX-",
        "outputId": "7a1be138-c1d0-482a-a512-368c470830e0",
        "colab": {
          "base_uri": "https://localhost:8080/",
          "height": 68
        }
      },
      "source": [
        "#Strings\n",
        "a=\"anu\"\n",
        "b='anusha'\n",
        "print(a)\n",
        "print(b)\n",
        "  # ''' for multiple lines\n",
        "c=\"\"\" anusha\n",
        "      i am from \n",
        "      class is at\"\"\"\n",
        "print(c)\n",
        "\n",
        "c=\"anushav b\"\n",
        "# #    0=a 1=n 2=u 3=s 4=h 5=a\n",
        "# #   0=a 1=n 2=u 3=s 4=h 5=a 6=v 7=    8=b\n",
        "# print(c[0])\n",
        "# print(c[0:9])\n",
        "\n",
        "#negative indexing\n",
        "c=\"anushav b\"\n",
        "#-9=a -8=n -7=u -6=s -5=h -4=a -3=v -2=    -1=b\n",
        "\n",
        "# print(c[-5:-9:1])\n",
        "\n",
        "print(c[0])  #0:9:1  012345      0:9:2  02468   0:9:3  0,3,6\n",
        "print(c[0:9:3])\n",
        "print(c[9:0:-2])"
      ],
      "execution_count": 58,
      "outputs": [
        {
          "output_type": "stream",
          "text": [
            "a\n",
            "asv\n",
            "bvhu\n"
          ],
          "name": "stdout"
        }
      ]
    },
    {
      "cell_type": "code",
      "metadata": {
        "id": "q3V7VRNVkh4q",
        "outputId": "c95afa5e-d7ca-4653-83d3-1b34e4c7a534",
        "colab": {
          "base_uri": "https://localhost:8080/",
          "height": 34
        }
      },
      "source": [
        "a=\"anusha #anusha anu\"  #index= 012345  len=based on string\n",
        "print(len(a))"
      ],
      "execution_count": 67,
      "outputs": [
        {
          "output_type": "stream",
          "text": [
            "18\n"
          ],
          "name": "stdout"
        }
      ]
    },
    {
      "cell_type": "code",
      "metadata": {
        "id": "wB7PdVKIlHQh",
        "outputId": "915990f6-33a0-4783-fb21-bde81b116f10",
        "colab": {
          "base_uri": "https://localhost:8080/",
          "height": 85
        }
      },
      "source": [
        "x=4\n",
        "print(x)\n",
        "print(type(x))\n",
        "\n",
        "y=str(4.6)\n",
        "print(y)\n",
        "print(type(y))\n",
        "\n",
        "\n"
      ],
      "execution_count": 78,
      "outputs": [
        {
          "output_type": "stream",
          "text": [
            "4\n",
            "<class 'int'>\n",
            "4.6\n",
            "<class 'str'>\n"
          ],
          "name": "stdout"
        }
      ]
    },
    {
      "cell_type": "code",
      "metadata": {
        "id": "8ZPIGoZxXZYp",
        "outputId": "9b455931-541c-4847-a151-45bc87746de1",
        "colab": {
          "base_uri": "https://localhost:8080/",
          "height": 85
        }
      },
      "source": [
        "#Methods\n",
        "\n",
        "#strip\n",
        "#lower'\n",
        "#upper method\n",
        "#replace\n",
        "#split\n",
        "\n",
        "j=\"Anusha/anu \"\n",
        "print(j)\n",
        "# f=j.strip()\n",
        "# print(f)\n",
        "\n",
        "# h=j.upper()\n",
        "# print(h)\n",
        "\n",
        "l=j.lower()\n",
        "print(l)\n",
        "\n",
        "k=j.replace(\"A\",\"O\")\n",
        "print(k)\n",
        "\n",
        "i=j.split(\"/\")\n",
        "print(i)\n"
      ],
      "execution_count": 95,
      "outputs": [
        {
          "output_type": "stream",
          "text": [
            "Anusha/anu\n",
            "anusha/anu\n",
            "Onusha/anu\n",
            "['Anusha', 'anu']\n"
          ],
          "name": "stdout"
        }
      ]
    }
  ]
}