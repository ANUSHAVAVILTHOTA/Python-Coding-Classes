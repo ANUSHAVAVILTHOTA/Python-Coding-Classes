{
  "nbformat": 4,
  "nbformat_minor": 0,
  "metadata": {
    "colab": {
      "name": "28-oct-2020",
      "provenance": []
    },
    "kernelspec": {
      "name": "python3",
      "display_name": "Python 3"
    }
  },
  "cells": [
    {
      "cell_type": "code",
      "metadata": {
        "id": "YtF_qWWq62xC",
        "outputId": "cc7bbdbc-23a7-4e60-a4a8-d528927f5097",
        "colab": {
          "base_uri": "https://localhost:8080/",
          "height": 34
        }
      },
      "source": [
        "#numpy\n",
        "import numpy\n",
        "\n",
        "arr=numpy.array([1,2,3,4,5])\n",
        "print(arr)"
      ],
      "execution_count": 2,
      "outputs": [
        {
          "output_type": "stream",
          "text": [
            "[1 2 3 4 5]\n"
          ],
          "name": "stdout"
        }
      ]
    },
    {
      "cell_type": "code",
      "metadata": {
        "id": "JLzyjiFz8UKX",
        "outputId": "5cd8401d-e95c-48ea-ddb1-f30cca05e66e",
        "colab": {
          "base_uri": "https://localhost:8080/",
          "height": 34
        }
      },
      "source": [
        "import numpy as anu  #creating numpy array   \n",
        "x=anu.array([1,2,4,5,6,7])\n",
        "print(x)"
      ],
      "execution_count": 14,
      "outputs": [
        {
          "output_type": "stream",
          "text": [
            "[1 2 4 5 6 7]\n"
          ],
          "name": "stdout"
        }
      ]
    },
    {
      "cell_type": "code",
      "metadata": {
        "id": "CwnPjypb9Me1",
        "outputId": "e0c65f63-9e07-466d-8314-9412ba47ea69",
        "colab": {
          "base_uri": "https://localhost:8080/",
          "height": 34
        }
      },
      "source": [
        "a=[1,2,3,4]\n",
        "print(type(a))\n"
      ],
      "execution_count": 7,
      "outputs": [
        {
          "output_type": "stream",
          "text": [
            "<class 'list'>\n"
          ],
          "name": "stdout"
        }
      ]
    },
    {
      "cell_type": "code",
      "metadata": {
        "id": "pEliwW9I81S9",
        "outputId": "eeded750-0b33-46a9-c617-fbd2c9ace4c7",
        "colab": {
          "base_uri": "https://localhost:8080/",
          "height": 34
        }
      },
      "source": [
        "x=np.array([1,2,3,4])   \n",
        "print(type(x))"
      ],
      "execution_count": 8,
      "outputs": [
        {
          "output_type": "stream",
          "text": [
            "<class 'numpy.ndarray'>\n"
          ],
          "name": "stdout"
        }
      ]
    },
    {
      "cell_type": "code",
      "metadata": {
        "id": "WpBDud_098lq"
      },
      "source": [
        "# [1,2,3]   # 1 dim\n",
        "# [[1,2,3],[4,5,6]]   2 dim\n",
        "# [[[1,2,3],[4,5,6],[3,4,5]]]  3 dim"
      ],
      "execution_count": null,
      "outputs": []
    },
    {
      "cell_type": "code",
      "metadata": {
        "id": "Xt4Pf0WV-O--",
        "outputId": "d717a251-efb1-4d9a-9fcd-65a76879870b",
        "colab": {
          "base_uri": "https://localhost:8080/",
          "height": 51
        }
      },
      "source": [
        "import numpy as np\n",
        "\n",
        "x=np.array([1,2,3])\n",
        "print(x)\n",
        "print(x.ndim)   #ndim"
      ],
      "execution_count": 11,
      "outputs": [
        {
          "output_type": "stream",
          "text": [
            "[1 2 3]\n",
            "1\n"
          ],
          "name": "stdout"
        }
      ]
    },
    {
      "cell_type": "code",
      "metadata": {
        "id": "vidv28LJ-fM2",
        "outputId": "b09ae03e-681d-48a0-89f9-60f7643f3b98",
        "colab": {
          "base_uri": "https://localhost:8080/",
          "height": 68
        }
      },
      "source": [
        "x=np.array([[1,2,3],[3,4,5]])\n",
        "print(x)\n",
        "print(x.ndim) \n",
        "\n",
        "# # 1 2 3  row\n",
        "# # 3 4 5  row\n",
        "\n",
        "# 1\n",
        "# 3  column"
      ],
      "execution_count": 13,
      "outputs": [
        {
          "output_type": "stream",
          "text": [
            "[[1 2 3]\n",
            " [3 4 5]]\n",
            "2\n"
          ],
          "name": "stdout"
        }
      ]
    },
    {
      "cell_type": "code",
      "metadata": {
        "id": "NBqoDzDX-46C",
        "outputId": "6316aba7-d992-4cbc-ec17-1cccab8bff0b",
        "colab": {
          "base_uri": "https://localhost:8080/",
          "height": 51
        }
      },
      "source": [
        "# create 1 array 23,45,67  print dim??\n",
        "x=np.array([23,45,67])\n",
        "print(x)\n",
        "print(x.ndim)"
      ],
      "execution_count": 14,
      "outputs": [
        {
          "output_type": "stream",
          "text": [
            "[23 45 67]\n",
            "1\n"
          ],
          "name": "stdout"
        }
      ]
    },
    {
      "cell_type": "code",
      "metadata": {
        "id": "txaJXJ3w_YX8",
        "outputId": "fc51f9c4-94ae-443c-f0e8-0fe3d982a26b",
        "colab": {
          "base_uri": "https://localhost:8080/",
          "height": 68
        }
      },
      "source": [
        "#[[23,34,45],[45,67,89]]\n",
        "x=np.array([[23,34,45],[45,67,89]])\n",
        "print(x)\n",
        "print(x.ndim)"
      ],
      "execution_count": 15,
      "outputs": [
        {
          "output_type": "stream",
          "text": [
            "[[23 34 45]\n",
            " [45 67 89]]\n",
            "2\n"
          ],
          "name": "stdout"
        }
      ]
    },
    {
      "cell_type": "code",
      "metadata": {
        "id": "gAVVqBNK_qRA",
        "outputId": "6723eb2a-64a3-4ac0-aff2-06e2379c0b47",
        "colab": {
          "base_uri": "https://localhost:8080/",
          "height": 68
        }
      },
      "source": [
        "x=np.array([[[23,34,45],[45,67,89]]])\n",
        "print(x)\n",
        "print(x.ndim)"
      ],
      "execution_count": 16,
      "outputs": [
        {
          "output_type": "stream",
          "text": [
            "[[[23 34 45]\n",
            "  [45 67 89]]]\n",
            "3\n"
          ],
          "name": "stdout"
        }
      ]
    },
    {
      "cell_type": "code",
      "metadata": {
        "id": "c53GRHuo_1En",
        "outputId": "057c6a91-161f-436c-f516-a634a986221c",
        "colab": {
          "base_uri": "https://localhost:8080/",
          "height": 51
        }
      },
      "source": [
        "import numpy as np\n",
        "y=np.array([1,2,3,4,5,6,7],ndmin=5)\n",
        "print(y)\n",
        "print(y.ndim)"
      ],
      "execution_count": 25,
      "outputs": [
        {
          "output_type": "stream",
          "text": [
            "[[[[[1 2 3 4 5 6 7]]]]]\n",
            "5\n"
          ],
          "name": "stdout"
        }
      ]
    },
    {
      "cell_type": "code",
      "metadata": {
        "id": "HBwLFmp4Au08",
        "outputId": "62962ba8-062d-4647-e4d1-8bd19e3a1de7",
        "colab": {
          "base_uri": "https://localhost:8080/",
          "height": 102
        }
      },
      "source": [
        "#access\n",
        "arr=np.array([1,2,3,4,5])  #0=1 1=2 2=3 3=4 4=5\n",
        "print(arr[0])\n",
        "print(arr[1])\n",
        "print(arr[2])\n",
        "print(arr[3])\n",
        "print(arr[4])\n"
      ],
      "execution_count": 28,
      "outputs": [
        {
          "output_type": "stream",
          "text": [
            "1\n",
            "2\n",
            "3\n",
            "4\n",
            "5\n"
          ],
          "name": "stdout"
        }
      ]
    },
    {
      "cell_type": "code",
      "metadata": {
        "id": "_Et6T3PjBKiv",
        "outputId": "46421923-8feb-44a2-bff0-44485762ae98",
        "colab": {
          "base_uri": "https://localhost:8080/",
          "height": 68
        }
      },
      "source": [
        "print(arr[0:3])  #012   \n",
        "print(arr[0]+arr[1])  #1+2\n",
        "print(arr[4]-arr[3])  #5-4 =1"
      ],
      "execution_count": 31,
      "outputs": [
        {
          "output_type": "stream",
          "text": [
            "[1 2 3]\n",
            "3\n",
            "1\n"
          ],
          "name": "stdout"
        }
      ]
    },
    {
      "cell_type": "code",
      "metadata": {
        "id": "k_0HXU-9Bf9c",
        "outputId": "4e7a7fbd-dfed-46fb-d30a-703d7ad683ef",
        "colab": {
          "base_uri": "https://localhost:8080/",
          "height": 34
        }
      },
      "source": [
        "arr=np.array([[1,2,3],[4,5,6]])  #-=0=[1,2,3]   1=[4,5,6]\n",
        "print(arr[0,1])   # [rows,colums]   #0=1 1=2 2=3"
      ],
      "execution_count": 36,
      "outputs": [
        {
          "output_type": "stream",
          "text": [
            "2\n"
          ],
          "name": "stdout"
        }
      ]
    },
    {
      "cell_type": "code",
      "metadata": {
        "id": "OplUog0LCsPV",
        "outputId": "b12fdeda-5a00-4c80-ac0a-f290212d4e2e",
        "colab": {
          "base_uri": "https://localhost:8080/",
          "height": 68
        }
      },
      "source": [
        "#[[23,45,67],[34,145,67],[67,89,34]]\n",
        "\n",
        "# 0=[23,45,67]   #0=23 1=45 2=67\n",
        "#1=[34,145,67]   #0=34 1=145 2=67\n",
        "#2=[67,89,34]   #0=67 1=89 2=34\n",
        "arr=np.array([[23,45,67],[34,145,67],[67,89,34]])\n",
        "print(arr[1,1])\n",
        "print(arr[1,2])\n",
        "print(arr[0,0])"
      ],
      "execution_count": 39,
      "outputs": [
        {
          "output_type": "stream",
          "text": [
            "145\n",
            "67\n",
            "23\n"
          ],
          "name": "stdout"
        }
      ]
    },
    {
      "cell_type": "code",
      "metadata": {
        "id": "rtSwLKR8DtuE",
        "outputId": "1c790114-2fec-4a14-e4d3-c43ab910c14e",
        "colab": {
          "base_uri": "https://localhost:8080/",
          "height": 34
        }
      },
      "source": [
        "#[[23,45,67],[34,145,67],[67,89,34],[23,45,167]]\n",
        "#167\n",
        "arr=np.array([[34,145,267,45,67,89,56],[34,145,267,45,67,89,56],[34,145,267,45,67,89,56],[34,145,267,45,67,89,56]])\n",
        "#167\n",
        "# print(arr[3,2])\n",
        "#267\n",
        "#[34,145,267,45,67,89,56]   \n",
        "print(arr[1,1:5])  #row,colums"
      ],
      "execution_count": 49,
      "outputs": [
        {
          "output_type": "stream",
          "text": [
            "[145 267  45  67]\n"
          ],
          "name": "stdout"
        }
      ]
    },
    {
      "cell_type": "code",
      "metadata": {
        "id": "KQLkTw95GaLy",
        "outputId": "f0377d60-2a3c-489b-84df-a300456aaeb5",
        "colab": {
          "base_uri": "https://localhost:8080/",
          "height": 102
        }
      },
      "source": [
        "# 4 rows 5 colums in each row\n",
        "z=np.array([[34,45,64,89,36],[22,69,23,67,89],[56,78,24,56,67],[34,67,89,23,47]])\n",
        "print(z)\n",
        "print(z[2,0:3]) "
      ],
      "execution_count": 52,
      "outputs": [
        {
          "output_type": "stream",
          "text": [
            "[[34 45 64 89 36]\n",
            " [22 69 23 67 89]\n",
            " [56 78 24 56 67]\n",
            " [34 67 89 23 47]]\n",
            "[56 78 24]\n"
          ],
          "name": "stdout"
        }
      ]
    },
    {
      "cell_type": "code",
      "metadata": {
        "id": "9lCD040bHlbq",
        "outputId": "230c67e6-5ba5-4112-fc8c-802fea9c77c4",
        "colab": {
          "base_uri": "https://localhost:8080/",
          "height": 34
        }
      },
      "source": [
        "#22,69,23,67\n",
        "print(z[1,0:4])"
      ],
      "execution_count": 54,
      "outputs": [
        {
          "output_type": "stream",
          "text": [
            "[22 69 23 67]\n"
          ],
          "name": "stdout"
        }
      ]
    },
    {
      "cell_type": "code",
      "metadata": {
        "id": "6HJD_AXkIGQL",
        "outputId": "2eef72b6-582e-493c-de63-d6baa6bbf2d0",
        "colab": {
          "base_uri": "https://localhost:8080/",
          "height": 68
        }
      },
      "source": [
        "#break \n",
        "#continue\n",
        "\n",
        "# 1 2 3 4 5,6,7\n",
        "#while loops\n",
        "x=1\n",
        "while (x<8):\n",
        "  print(x)\n",
        "  if(x==3):\n",
        "    break\n",
        "  x=x+1\n"
      ],
      "execution_count": 56,
      "outputs": [
        {
          "output_type": "stream",
          "text": [
            "1\n",
            "2\n",
            "3\n"
          ],
          "name": "stdout"
        }
      ]
    },
    {
      "cell_type": "code",
      "metadata": {
        "id": "ssBE-zefI6gk",
        "outputId": "3cf75097-b5db-4edb-af45-cd0890e511da",
        "colab": {
          "base_uri": "https://localhost:8080/",
          "height": 136
        }
      },
      "source": [
        "s=0\n",
        "while (s<8):\n",
        "  s=s+1\n",
        "  if(s==3):\n",
        "    continue\n",
        "  print(s)\n",
        "  \n",
        "#12 4567"
      ],
      "execution_count": 6,
      "outputs": [
        {
          "output_type": "stream",
          "text": [
            "1\n",
            "2\n",
            "4\n",
            "5\n",
            "6\n",
            "7\n",
            "8\n"
          ],
          "name": "stdout"
        }
      ]
    },
    {
      "cell_type": "code",
      "metadata": {
        "id": "fgu5adpqK7PS",
        "outputId": "8f2eda61-4ca4-4579-8675-e5d95d9bc68b",
        "colab": {
          "base_uri": "https://localhost:8080/",
          "height": 282
        }
      },
      "source": [
        "s=0\n",
        "while (s<8):\n",
        "  #s=s+1   #s=4\n",
        "  if(s==3):\n",
        "    continue  #3  if(s==3)\n",
        "  print(s)\n",
        "  s=s+1"
      ],
      "execution_count": 7,
      "outputs": [
        {
          "output_type": "stream",
          "text": [
            "0\n",
            "1\n",
            "2\n"
          ],
          "name": "stdout"
        },
        {
          "output_type": "error",
          "ename": "KeyboardInterrupt",
          "evalue": "ignored",
          "traceback": [
            "\u001b[0;31m---------------------------------------------------------------------------\u001b[0m",
            "\u001b[0;31mKeyboardInterrupt\u001b[0m                         Traceback (most recent call last)",
            "\u001b[0;32m<ipython-input-7-cafd94d75afa>\u001b[0m in \u001b[0;36m<module>\u001b[0;34m()\u001b[0m\n\u001b[1;32m      1\u001b[0m \u001b[0ms\u001b[0m\u001b[0;34m=\u001b[0m\u001b[0;36m0\u001b[0m\u001b[0;34m\u001b[0m\u001b[0;34m\u001b[0m\u001b[0m\n\u001b[0;32m----> 2\u001b[0;31m \u001b[0;32mwhile\u001b[0m \u001b[0;34m(\u001b[0m\u001b[0ms\u001b[0m\u001b[0;34m<\u001b[0m\u001b[0;36m8\u001b[0m\u001b[0;34m)\u001b[0m\u001b[0;34m:\u001b[0m\u001b[0;34m\u001b[0m\u001b[0;34m\u001b[0m\u001b[0m\n\u001b[0m\u001b[1;32m      3\u001b[0m   \u001b[0;32mif\u001b[0m\u001b[0;34m(\u001b[0m\u001b[0ms\u001b[0m\u001b[0;34m==\u001b[0m\u001b[0;36m3\u001b[0m\u001b[0;34m)\u001b[0m\u001b[0;34m:\u001b[0m\u001b[0;34m\u001b[0m\u001b[0;34m\u001b[0m\u001b[0m\n\u001b[1;32m      4\u001b[0m     \u001b[0;32mcontinue\u001b[0m\u001b[0;34m\u001b[0m\u001b[0;34m\u001b[0m\u001b[0m\n\u001b[1;32m      5\u001b[0m   \u001b[0mprint\u001b[0m\u001b[0;34m(\u001b[0m\u001b[0ms\u001b[0m\u001b[0;34m)\u001b[0m\u001b[0;34m\u001b[0m\u001b[0;34m\u001b[0m\u001b[0m\n",
            "\u001b[0;31mKeyboardInterrupt\u001b[0m: "
          ]
        }
      ]
    },
    {
      "cell_type": "code",
      "metadata": {
        "id": "HhEhjn8qJqgE",
        "outputId": "3e296120-288b-4f32-e8a9-83ba2ffe1c5b",
        "colab": {
          "base_uri": "https://localhost:8080/",
          "height": 85
        }
      },
      "source": [
        "y=2\n",
        "while(y<6):\n",
        "  print(y)\n",
        "  y=y+1"
      ],
      "execution_count": 3,
      "outputs": [
        {
          "output_type": "stream",
          "text": [
            "2\n",
            "3\n",
            "4\n",
            "5\n"
          ],
          "name": "stdout"
        }
      ]
    },
    {
      "cell_type": "code",
      "metadata": {
        "id": "OewHjlpMLlsH",
        "outputId": "2e8541ed-9b47-4428-b14d-3380c30c6aca",
        "colab": {
          "base_uri": "https://localhost:8080/",
          "height": 187
        }
      },
      "source": [
        "# 20 -30  #25\n",
        "# 40 57 # 49\n",
        "x=20\n",
        "while(x<31):\n",
        "  x=x+1\n",
        "  if(x==25):\n",
        "    continue\n",
        "  print(x)"
      ],
      "execution_count": 8,
      "outputs": [
        {
          "output_type": "stream",
          "text": [
            "21\n",
            "22\n",
            "23\n",
            "24\n",
            "26\n",
            "27\n",
            "28\n",
            "29\n",
            "30\n",
            "31\n"
          ],
          "name": "stdout"
        }
      ]
    },
    {
      "cell_type": "code",
      "metadata": {
        "id": "q0iQnzA1MBL1",
        "outputId": "f343b4a1-c899-4a43-a08f-5567a2a94ea8",
        "colab": {
          "base_uri": "https://localhost:8080/",
          "height": 306
        }
      },
      "source": [
        "# 40 57 # 49  \n",
        "x=39\n",
        "while(x<57):\n",
        "  x=x+1\n",
        "  if(x==49):\n",
        "    continue\n",
        "  print(x)"
      ],
      "execution_count": 9,
      "outputs": [
        {
          "output_type": "stream",
          "text": [
            "40\n",
            "41\n",
            "42\n",
            "43\n",
            "44\n",
            "45\n",
            "46\n",
            "47\n",
            "48\n",
            "50\n",
            "51\n",
            "52\n",
            "53\n",
            "54\n",
            "55\n",
            "56\n",
            "57\n"
          ],
          "name": "stdout"
        }
      ]
    },
    {
      "cell_type": "code",
      "metadata": {
        "id": "mZOhUoCLMagy",
        "outputId": "38c7acea-bece-4d0d-ca23-ae7d49172496",
        "colab": {
          "base_uri": "https://localhost:8080/",
          "height": 102
        }
      },
      "source": [
        "#40 50  #even numbers   41,43,.........\n",
        "\n",
        "x=39\n",
        "while(x<50):  #39 ...........50\n",
        "  x=x+1\n",
        "  if(x%2==0):  #even  x==43  43\n",
        "    continue\n",
        "  print(x)"
      ],
      "execution_count": 10,
      "outputs": [
        {
          "output_type": "stream",
          "text": [
            "41\n",
            "43\n",
            "45\n",
            "47\n",
            "49\n"
          ],
          "name": "stdout"
        }
      ]
    },
    {
      "cell_type": "code",
      "metadata": {
        "id": "9CyWg4z2M8vj",
        "outputId": "b8370682-a031-4c9b-c8b1-37d8bfa33f70",
        "colab": {
          "base_uri": "https://localhost:8080/",
          "height": 102
        }
      },
      "source": [
        "#23 33  #odd numbers \n",
        "x=22\n",
        "while(x<33):\n",
        "  x=x+1\n",
        "  if(x%2!=0):\n",
        "    continue\n",
        "  print(x)"
      ],
      "execution_count": 11,
      "outputs": [
        {
          "output_type": "stream",
          "text": [
            "24\n",
            "26\n",
            "28\n",
            "30\n",
            "32\n"
          ],
          "name": "stdout"
        }
      ]
    },
    {
      "cell_type": "code",
      "metadata": {
        "id": "VHvn62k3OSYq"
      },
      "source": [
        "# 23 30 >25   23,24....30  >25    26,27,28,29,30\n"
      ],
      "execution_count": null,
      "outputs": []
    },
    {
      "cell_type": "code",
      "metadata": {
        "id": "AHQuiGIJOrBb"
      },
      "source": [
        "#23 to 30             23,24,25,26,27,28,29,30   #23 33 \n",
        "#>25   26,27,28,29,30"
      ],
      "execution_count": null,
      "outputs": []
    },
    {
      "cell_type": "code",
      "metadata": {
        "id": "8OKUbP9mO6x4",
        "outputId": "d37d7a5a-022d-4621-dc39-e1a01d15389c",
        "colab": {
          "base_uri": "https://localhost:8080/",
          "height": 102
        }
      },
      "source": [
        "x=23\n",
        "while(x<=30):\n",
        "  if(x>25):\n",
        "    print(x)\n",
        "  x=x+1\n"
      ],
      "execution_count": 12,
      "outputs": [
        {
          "output_type": "stream",
          "text": [
            "26\n",
            "27\n",
            "28\n",
            "29\n",
            "30\n"
          ],
          "name": "stdout"
        }
      ]
    },
    {
      "cell_type": "code",
      "metadata": {
        "id": "7nwIQaWhPaCj",
        "outputId": "852f50a4-4718-4b72-8eda-f9af635e0d12",
        "colab": {
          "base_uri": "https://localhost:8080/",
          "height": 187
        }
      },
      "source": [
        "#20 40    <30 \n",
        "#20,21,................29\n",
        "x=20\n",
        "while(x<=40):\n",
        "  if(x<30): \n",
        "    print(x)\n",
        "  x=x+1"
      ],
      "execution_count": 13,
      "outputs": [
        {
          "output_type": "stream",
          "text": [
            "20\n",
            "21\n",
            "22\n",
            "23\n",
            "24\n",
            "25\n",
            "26\n",
            "27\n",
            "28\n",
            "29\n"
          ],
          "name": "stdout"
        }
      ]
    }
  ]
}