{
  "nbformat": 4,
  "nbformat_minor": 0,
  "metadata": {
    "colab": {
      "name": "20-oct-2020.ipynb",
      "provenance": [],
      "collapsed_sections": []
    },
    "kernelspec": {
      "name": "python3",
      "display_name": "Python 3"
    }
  },
  "cells": [
    {
      "cell_type": "code",
      "metadata": {
        "id": "FakRLs5R1peO",
        "outputId": "d46b0566-6a0c-4b7b-c8d9-8a2b9c643046",
        "colab": {
          "base_uri": "https://localhost:8080/",
          "height": 34
        }
      },
      "source": [
        "#Lists\n",
        "my_list=[1,2,3]  #int\n",
        "print(my_list)"
      ],
      "execution_count": 2,
      "outputs": [
        {
          "output_type": "stream",
          "text": [
            "[1, 2, 3]\n"
          ],
          "name": "stdout"
        }
      ]
    },
    {
      "cell_type": "code",
      "metadata": {
        "id": "NZmhHslK6Rag",
        "outputId": "e284fa84-d439-4fd6-cffb-a3384e5a2e5b",
        "colab": {
          "base_uri": "https://localhost:8080/",
          "height": 34
        }
      },
      "source": [
        "#mixed data types in the list   #int,string,float\n",
        "my_list=[1,\"anu\",3.56]\n",
        "print(my_list)"
      ],
      "execution_count": 4,
      "outputs": [
        {
          "output_type": "stream",
          "text": [
            "[1, 'anu', 3.56]\n"
          ],
          "name": "stdout"
        }
      ]
    },
    {
      "cell_type": "code",
      "metadata": {
        "id": "fgCvhTkM6kCu",
        "outputId": "b4b2d867-24b6-4190-ee8f-8699c9e7c666",
        "colab": {
          "base_uri": "https://localhost:8080/",
          "height": 34
        }
      },
      "source": [
        "#nested list\n",
        "my_list=[\"anu\",[1,2,3],'hello']\n",
        "print(my_list)"
      ],
      "execution_count": 5,
      "outputs": [
        {
          "output_type": "stream",
          "text": [
            "['anu', [1, 2, 3], 'hello']\n"
          ],
          "name": "stdout"
        }
      ]
    },
    {
      "cell_type": "code",
      "metadata": {
        "id": "gt99JlkC6_So",
        "outputId": "299a607b-1772-4d04-a3bf-437d4d495e04",
        "colab": {
          "base_uri": "https://localhost:8080/",
          "height": 68
        }
      },
      "source": [
        "#accessing elements inside the list\n",
        "my_list=[\"a\",\"n\",\"xyz\",\"s\",\"h\",\"a\",\"abc\"]      # 0=a 1=n 2=u 3=s 4=h 5=a\n",
        "print(my_list[0])\n",
        "print(my_list[2])\n",
        "print(my_list[6])"
      ],
      "execution_count": 9,
      "outputs": [
        {
          "output_type": "stream",
          "text": [
            "a\n",
            "xyz\n",
            "abc\n"
          ],
          "name": "stdout"
        }
      ]
    },
    {
      "cell_type": "code",
      "metadata": {
        "id": "ffrm_dqG7m94",
        "outputId": "9f13e443-61ee-4ed8-b188-e397878521e3",
        "colab": {
          "base_uri": "https://localhost:8080/",
          "height": 51
        }
      },
      "source": [
        "#Accessing nested list\n",
        "my_list=[\"anu\",7,6,[2,3,5],9,8]\n",
        "#0=anu 1=7  2=6 3=[2,3,5]  4=9 5 =8\n",
        "print(my_list[3])  # 0=2 #1 =3 2=5\n",
        "print(my_list[3][2])"
      ],
      "execution_count": 12,
      "outputs": [
        {
          "output_type": "stream",
          "text": [
            "[2, 3, 5]\n",
            "5\n"
          ],
          "name": "stdout"
        }
      ]
    },
    {
      "cell_type": "code",
      "metadata": {
        "id": "W1xW5LfY8TVX",
        "outputId": "05a197ae-9f43-447d-82e3-6a734795335d",
        "colab": {
          "base_uri": "https://localhost:8080/",
          "height": 34
        }
      },
      "source": [
        "x=[1,4,5,6,7,9]\n",
        "print(x[4])"
      ],
      "execution_count": 13,
      "outputs": [
        {
          "output_type": "stream",
          "text": [
            "7\n"
          ],
          "name": "stdout"
        }
      ]
    },
    {
      "cell_type": "code",
      "metadata": {
        "id": "kTm6Ec6-8njO",
        "outputId": "8361309d-cfbc-4ab7-e9a1-de2b65de9c97",
        "colab": {
          "base_uri": "https://localhost:8080/",
          "height": 34
        }
      },
      "source": [
        "x=[5,6,7,[2,4,5,10,12],7,8,10]   #0=5,1=6  2=7 3=[2,4,5,10] 4=7  5=8  6=10\n",
        "print(x[3][4])   # 0=2 1=4 2=5 3=10"
      ],
      "execution_count": 28,
      "outputs": [
        {
          "output_type": "stream",
          "text": [
            "12\n"
          ],
          "name": "stdout"
        }
      ]
    },
    {
      "cell_type": "code",
      "metadata": {
        "id": "Dn7zpYG3_lch",
        "outputId": "d6176332-a3e7-40b3-d2a9-2df6afe069df",
        "colab": {
          "base_uri": "https://localhost:8080/",
          "height": 34
        }
      },
      "source": [
        "x=[5,6,7,13,14,[2,4,5,10,12],7,8,10]\n",
        "print(x[5][4])   #5 index inside 5 th again 4 th index\n"
      ],
      "execution_count": 31,
      "outputs": [
        {
          "output_type": "stream",
          "text": [
            "12\n"
          ],
          "name": "stdout"
        }
      ]
    },
    {
      "cell_type": "code",
      "metadata": {
        "id": "vn4G1kgV_4kj",
        "outputId": "4fdd0d6e-88ca-4b90-d85e-b151f1236427",
        "colab": {
          "base_uri": "https://localhost:8080/",
          "height": 34
        }
      },
      "source": [
        "x=[5,6,7,13,14,54,67,[2,345,4,5,10,12],7,8,10]\n",
        "print(x[7][1])"
      ],
      "execution_count": 32,
      "outputs": [
        {
          "output_type": "stream",
          "text": [
            "345\n"
          ],
          "name": "stdout"
        }
      ]
    },
    {
      "cell_type": "code",
      "metadata": {
        "id": "fyQ2GxXp82oS"
      },
      "source": [
        "a   n    u   s   h   a   b\n",
        "0   1    2   3   4   5   6\n",
        "-7  -6  -5  -4  -3  -2  -1"
      ],
      "execution_count": 15,
      "outputs": []
    },
    {
      "cell_type": "code",
      "metadata": {
        "id": "84njp_aG85JB",
        "outputId": "a1f5b691-259b-499c-d4f7-4de52a92047f",
        "colab": {
          "base_uri": "https://localhost:8080/",
          "height": 51
        }
      },
      "source": [
        "my_list=['a','n','u','s','h','a','b']\n",
        "print(my_list[-5])\n",
        "print(my_list[-3])"
      ],
      "execution_count": 18,
      "outputs": [
        {
          "output_type": "stream",
          "text": [
            "u\n",
            "h\n"
          ],
          "name": "stdout"
        }
      ]
    },
    {
      "cell_type": "code",
      "metadata": {
        "id": "EaXb7-9IAWVh",
        "outputId": "f4051afd-48b7-4991-f903-db06bd0a61c4",
        "colab": {
          "base_uri": "https://localhost:8080/",
          "height": 68
        }
      },
      "source": [
        "#multiple elements inside the list\n",
        "my_list=[1,2,3,4,8,6,7]  #2,3,4,8 \n",
        "print(my_list[1:5])\n",
        "print(my_list[4:7])  #start index : end index+1\n",
        "print(my_list[0:4])"
      ],
      "execution_count": 41,
      "outputs": [
        {
          "output_type": "stream",
          "text": [
            "[2, 3, 4, 8]\n",
            "[8, 6, 7]\n",
            "[1, 2, 3, 4]\n"
          ],
          "name": "stdout"
        }
      ]
    },
    {
      "cell_type": "code",
      "metadata": {
        "id": "UyZMLpsXCREG",
        "outputId": "a64d954b-f3d4-4c48-86c2-c50cf6ce1cec",
        "colab": {
          "base_uri": "https://localhost:8080/",
          "height": 34
        }
      },
      "source": [
        "#changing the elements\n",
        "anusha=[1,4,5,6]\n",
        "anusha[2]=367   #0=1 1=4 2=5 3=6\n",
        "print(anusha)"
      ],
      "execution_count": 45,
      "outputs": [
        {
          "output_type": "stream",
          "text": [
            "[1, 4, 367, 6]\n"
          ],
          "name": "stdout"
        }
      ]
    },
    {
      "cell_type": "code",
      "metadata": {
        "id": "it-yOgWlCrN8",
        "outputId": "d3e8fe8a-4104-4312-8b6a-c5829579c22c",
        "colab": {
          "base_uri": "https://localhost:8080/",
          "height": 34
        }
      },
      "source": [
        "list1=[3,5,6,7,8,9,12]\n",
        "#9=456\n",
        "list1[5]=456\n",
        "print(list1)"
      ],
      "execution_count": 46,
      "outputs": [
        {
          "output_type": "stream",
          "text": [
            "[3, 5, 6, 7, 8, 456, 12]\n"
          ],
          "name": "stdout"
        }
      ]
    },
    {
      "cell_type": "code",
      "metadata": {
        "id": "1t93ctE5Dhy4",
        "outputId": "16a34551-9a91-4399-c7c1-7198bc9601fc",
        "colab": {
          "base_uri": "https://localhost:8080/",
          "height": 34
        }
      },
      "source": [
        "list1=[3,5,6,7,8,9,12,[1,3,4,34],56]\n",
        "#34=456\n",
        "list1[7][3]=456\n",
        "print(list1)"
      ],
      "execution_count": 48,
      "outputs": [
        {
          "output_type": "stream",
          "text": [
            "[3, 5, 6, 7, 8, 9, 12, [1, 3, 4, 456], 56]\n"
          ],
          "name": "stdout"
        }
      ]
    },
    {
      "cell_type": "code",
      "metadata": {
        "id": "AcjabAJOD-LT",
        "outputId": "dafe23e1-686a-4234-f94c-19ee16690860",
        "colab": {
          "base_uri": "https://localhost:8080/",
          "height": 34
        }
      },
      "source": [
        "#changing multiple ele\n",
        "a=[1,4,6,8]   #0=1 1=4 2=6 3=8\n",
        "a[1:4]=[10,12,15]   # 1 2 3\n",
        "print(a)"
      ],
      "execution_count": 50,
      "outputs": [
        {
          "output_type": "stream",
          "text": [
            "[1, 10, 12, 15]\n"
          ],
          "name": "stdout"
        }
      ]
    },
    {
      "cell_type": "code",
      "metadata": {
        "id": "M9vIO7zsE1j1",
        "outputId": "3686ef32-9037-4f7c-b180-dbce36c083ae",
        "colab": {
          "base_uri": "https://localhost:8080/",
          "height": 34
        }
      },
      "source": [
        "#add ele\n",
        "# append extend   \n",
        "# append add the value at the end of the list\n",
        "a=[1,4,5,7,8,34]\n",
        "#19\n",
        "a.append(234)\n",
        "a.append(456)\n",
        "a.append(25)\n",
        "print(a)"
      ],
      "execution_count": 59,
      "outputs": [
        {
          "output_type": "stream",
          "text": [
            "[1, 4, 5, 7, 8, 34, 234, 456, 25]\n"
          ],
          "name": "stdout"
        }
      ]
    },
    {
      "cell_type": "code",
      "metadata": {
        "id": "vFDjUQfaFd_T",
        "outputId": "925977c2-7ba2-464a-d51c-a284441f1088",
        "colab": {
          "base_uri": "https://localhost:8080/",
          "height": 34
        }
      },
      "source": [
        "# mul\n",
        "#extend \n",
        "a=[2,4,6,7]\n",
        "a.extend([234,456,25])\n",
        "print(a)"
      ],
      "execution_count": 60,
      "outputs": [
        {
          "output_type": "stream",
          "text": [
            "[2, 4, 6, 7, 234, 456, 25]\n"
          ],
          "name": "stdout"
        }
      ]
    },
    {
      "cell_type": "code",
      "metadata": {
        "id": "kv0_HcINFw6h",
        "outputId": "caeae71c-1881-48f9-a0c8-78da243fcb19",
        "colab": {
          "base_uri": "https://localhost:8080/",
          "height": 34
        }
      },
      "source": [
        "#insert\n",
        "\n",
        "a=[2,5,7,8,9]   #4=9\n",
        "a.insert(5,34)\n",
        "print(a)"
      ],
      "execution_count": 64,
      "outputs": [
        {
          "output_type": "stream",
          "text": [
            "[2, 5, 7, 8, 9, 34]\n"
          ],
          "name": "stdout"
        }
      ]
    },
    {
      "cell_type": "code",
      "metadata": {
        "id": "2bgSqptvHIcu",
        "outputId": "b9a73ff2-b2b5-497c-ba37-33079b92f7da",
        "colab": {
          "base_uri": "https://localhost:8080/",
          "height": 34
        }
      },
      "source": [
        "a=[2,5,7,8,9]   #4=9\n",
        "a[1]=35\n",
        "print(a)"
      ],
      "execution_count": 65,
      "outputs": [
        {
          "output_type": "stream",
          "text": [
            "[2, 35, 7, 8, 9]\n"
          ],
          "name": "stdout"
        }
      ]
    },
    {
      "cell_type": "code",
      "metadata": {
        "id": "CVT7boS5HWta",
        "outputId": "55b8150c-2f3f-49c9-d173-ceba08c3f993",
        "colab": {
          "base_uri": "https://localhost:8080/",
          "height": 34
        }
      },
      "source": [
        "a=[2,5,6,7]\n",
        "a.remove(7)   #remove par ele\n",
        "print(a)"
      ],
      "execution_count": 66,
      "outputs": [
        {
          "output_type": "stream",
          "text": [
            "[2, 5, 6]\n"
          ],
          "name": "stdout"
        }
      ]
    },
    {
      "cell_type": "code",
      "metadata": {
        "id": "WRSrZuseHj2j",
        "outputId": "c00eef6d-e1c6-4fc7-f589-f484d550c097",
        "colab": {
          "base_uri": "https://localhost:8080/",
          "height": 34
        }
      },
      "source": [
        "a=[2,5,6,7,8,9,12]  \n",
        "a.pop(5)   # rem based on index\n",
        "print(a)"
      ],
      "execution_count": 68,
      "outputs": [
        {
          "output_type": "stream",
          "text": [
            "[2, 5, 6, 7, 8, 12]\n"
          ],
          "name": "stdout"
        }
      ]
    },
    {
      "cell_type": "code",
      "metadata": {
        "id": "KSE8nr-1IBj2",
        "outputId": "906890c0-63a9-4992-f19a-75fdaddc917f",
        "colab": {
          "base_uri": "https://localhost:8080/",
          "height": 34
        }
      },
      "source": [
        "#index\n",
        "\n",
        "a=[3,6,7,8,9]\n",
        "print(a.index(9))\n"
      ],
      "execution_count": 72,
      "outputs": [
        {
          "output_type": "stream",
          "text": [
            "4\n"
          ],
          "name": "stdout"
        }
      ]
    },
    {
      "cell_type": "code",
      "metadata": {
        "id": "fCsCBDjTIS_W",
        "outputId": "cdab6197-dabd-42af-e8fe-2e224ebd1c48",
        "colab": {
          "base_uri": "https://localhost:8080/",
          "height": 34
        }
      },
      "source": [
        "k=[2,4,5,6,7,2,5,2,7,8] #take count of 7 is 2\n",
        "print(k.count(6))"
      ],
      "execution_count": 77,
      "outputs": [
        {
          "output_type": "stream",
          "text": [
            "1\n"
          ],
          "name": "stdout"
        }
      ]
    },
    {
      "cell_type": "code",
      "metadata": {
        "id": "5eWOHx8QJBW1",
        "outputId": "b4a1e34c-d2df-49d1-d9c7-dae5ffcf1248",
        "colab": {
          "base_uri": "https://localhost:8080/",
          "height": 34
        }
      },
      "source": [
        "#sort\n",
        "a=[2,4,5,6,0,13,12,16,17,1,25]\n",
        "a.sort()\n",
        "print(a)"
      ],
      "execution_count": 78,
      "outputs": [
        {
          "output_type": "stream",
          "text": [
            "[0, 1, 2, 4, 5, 6, 12, 13, 16, 17, 25]\n"
          ],
          "name": "stdout"
        }
      ]
    },
    {
      "cell_type": "code",
      "metadata": {
        "id": "oDheU3zrJTc-",
        "outputId": "cd06601b-ef5d-431f-a83f-8624e77bcc1b",
        "colab": {
          "base_uri": "https://localhost:8080/",
          "height": 34
        }
      },
      "source": [
        "#reverse\n",
        "a=[2,4,7,8,5,10,24,35]\n",
        "a.reverse()\n",
        "print(a)"
      ],
      "execution_count": 80,
      "outputs": [
        {
          "output_type": "stream",
          "text": [
            "[35, 24, 10, 5, 8, 7, 4, 2]\n"
          ],
          "name": "stdout"
        }
      ]
    },
    {
      "cell_type": "code",
      "metadata": {
        "id": "YAugJaQnKplm",
        "outputId": "c3e07b4b-00fd-4a4b-9f79-8f948fa65471",
        "colab": {
          "base_uri": "https://localhost:8080/",
          "height": 34
        }
      },
      "source": [
        "#copy\n",
        "a=[1,5,6,7,8,3]\n",
        "b_anu=a.copy()\n",
        "print(b_anu)"
      ],
      "execution_count": 83,
      "outputs": [
        {
          "output_type": "stream",
          "text": [
            "[1, 5, 6, 7, 8, 3]\n"
          ],
          "name": "stdout"
        }
      ]
    },
    {
      "cell_type": "code",
      "metadata": {
        "id": "0_OA-1OxLeij",
        "outputId": "b53eac46-ceb4-4c5d-ea9a-564006740e40",
        "colab": {
          "base_uri": "https://localhost:8080/",
          "height": 34
        }
      },
      "source": [
        "#clear\n",
        "a=[2,4,5,6]\n",
        "a.clear()\n",
        "print(a)"
      ],
      "execution_count": 84,
      "outputs": [
        {
          "output_type": "stream",
          "text": [
            "[]\n"
          ],
          "name": "stdout"
        }
      ]
    },
    {
      "cell_type": "code",
      "metadata": {
        "id": "7MBkOAtKL5RQ"
      },
      "source": [
        "#insert\n",
        "# index\n",
        "# count\n",
        "# sort\n",
        "# reverse\n",
        "# copy\n",
        "# append\n",
        "# extend\n",
        "# remove\n",
        "# pop\n",
        "# clear"
      ],
      "execution_count": null,
      "outputs": []
    }
  ]
}