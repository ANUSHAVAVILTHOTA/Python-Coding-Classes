{
  "nbformat": 4,
  "nbformat_minor": 0,
  "metadata": {
    "colab": {
      "name": "18-oct-2020.ipynb",
      "provenance": []
    },
    "kernelspec": {
      "name": "python3",
      "display_name": "Python 3"
    }
  },
  "cells": [
    {
      "cell_type": "code",
      "metadata": {
        "id": "Sqlvq-qOaw1q",
        "outputId": "99503ff0-825b-4083-8973-59b9dee0bf30",
        "colab": {
          "base_uri": "https://localhost:8080/",
          "height": 85
        }
      },
      "source": [
        "#break and continue\n",
        "\n",
        "#for loops\n",
        "x=[\"apple\",\"orange\",\"grape\",\"xyz\"]\n",
        "for i in x:\n",
        "  print(i)"
      ],
      "execution_count": 2,
      "outputs": [
        {
          "output_type": "stream",
          "text": [
            "apple\n",
            "orange\n",
            "grape\n",
            "xyz\n"
          ],
          "name": "stdout"
        }
      ]
    },
    {
      "cell_type": "code",
      "metadata": {
        "id": "mMY14ieHdqDo",
        "outputId": "5c6ab2b5-4a48-4fac-c00a-f28583eddc27",
        "colab": {
          "base_uri": "https://localhost:8080/",
          "height": 51
        }
      },
      "source": [
        "#(start:ending:increment)   (0,6,1)   (0,6,1)\n",
        "x=0\n",
        "y=6   #0 to 6\n",
        "for i in range(x,y,3):   #0 3 6 9 ....\n",
        "  print(i)"
      ],
      "execution_count": 10,
      "outputs": [
        {
          "output_type": "stream",
          "text": [
            "0\n",
            "3\n"
          ],
          "name": "stdout"
        }
      ]
    },
    {
      "cell_type": "code",
      "metadata": {
        "id": "QQik6swwfO2G",
        "outputId": "3ecd75bc-b31a-4af6-fe16-6b4d4812afc9",
        "colab": {
          "base_uri": "https://localhost:8080/",
          "height": 136
        }
      },
      "source": [
        "#  print 0 to 7   #0,1,2,3,4,5,6,7\n",
        "x=0\n",
        "y=7\n",
        "\n",
        "for i in range(x,y,1):\n",
        "  print(i)\n"
      ],
      "execution_count": 11,
      "outputs": [
        {
          "output_type": "stream",
          "text": [
            "0\n",
            "1\n",
            "2\n",
            "3\n",
            "4\n",
            "5\n",
            "6\n"
          ],
          "name": "stdout"
        }
      ]
    },
    {
      "cell_type": "code",
      "metadata": {
        "id": "m-CImCs0ftoq",
        "outputId": "3dda2ea5-a737-4908-e731-95f6cdfb715c",
        "colab": {
          "base_uri": "https://localhost:8080/",
          "height": 85
        }
      },
      "source": [
        "x=0\n",
        "y=7\n",
        "\n",
        "for i in range(x,y,2):\n",
        "  print(i)"
      ],
      "execution_count": 12,
      "outputs": [
        {
          "output_type": "stream",
          "text": [
            "0\n",
            "2\n",
            "4\n",
            "6\n"
          ],
          "name": "stdout"
        }
      ]
    },
    {
      "cell_type": "code",
      "metadata": {
        "id": "4_CxKSs9fypX",
        "outputId": "b591f3a2-3488-4c9c-bede-1ab79a908889",
        "colab": {
          "base_uri": "https://localhost:8080/",
          "height": 68
        }
      },
      "source": [
        "x=0\n",
        "y=7\n",
        "\n",
        "for i in range(x,y,3):\n",
        "  print(i)"
      ],
      "execution_count": 13,
      "outputs": [
        {
          "output_type": "stream",
          "text": [
            "0\n",
            "3\n",
            "6\n"
          ],
          "name": "stdout"
        }
      ]
    },
    {
      "cell_type": "code",
      "metadata": {
        "id": "Buf47B--f6w-",
        "outputId": "e68c2d70-a4f5-48bf-fc6b-e68b8980be85",
        "colab": {
          "base_uri": "https://localhost:8080/",
          "height": 68
        }
      },
      "source": [
        "for i in range(0,7,3):\n",
        "  print(i)"
      ],
      "execution_count": 15,
      "outputs": [
        {
          "output_type": "stream",
          "text": [
            "0\n",
            "3\n",
            "6\n"
          ],
          "name": "stdout"
        }
      ]
    },
    {
      "cell_type": "code",
      "metadata": {
        "id": "L-Gw8GgqgSty",
        "outputId": "83f5993f-2083-4935-97c7-0002e82bb4ba",
        "colab": {
          "base_uri": "https://localhost:8080/",
          "height": 204
        }
      },
      "source": [
        "# 0 to 10\n",
        "for i in range(0,11,1):\n",
        "  print(i)"
      ],
      "execution_count": 21,
      "outputs": [
        {
          "output_type": "stream",
          "text": [
            "0\n",
            "1\n",
            "2\n",
            "3\n",
            "4\n",
            "5\n",
            "6\n",
            "7\n",
            "8\n",
            "9\n",
            "10\n"
          ],
          "name": "stdout"
        }
      ]
    },
    {
      "cell_type": "code",
      "metadata": {
        "id": "3ab9B9gejRI2",
        "outputId": "22d85ef6-873a-4d87-fdd0-c292f2a2ce1a",
        "colab": {
          "base_uri": "https://localhost:8080/",
          "height": 204
        }
      },
      "source": [
        "# even numbers 1 to 10\n",
        "for i in range(0,11,1):\n",
        "   if(i%2==0):\n",
        "     print(\"even\",i)\n",
        "   else:\n",
        "    print(\"odd\",i)"
      ],
      "execution_count": 24,
      "outputs": [
        {
          "output_type": "stream",
          "text": [
            "even 0\n",
            "odd 1\n",
            "even 2\n",
            "odd 3\n",
            "even 4\n",
            "odd 5\n",
            "even 6\n",
            "odd 7\n",
            "even 8\n",
            "odd 9\n",
            "even 10\n"
          ],
          "name": "stdout"
        }
      ]
    },
    {
      "cell_type": "code",
      "metadata": {
        "id": "UBh9J6Emj76F",
        "outputId": "0aacceba-cc49-4912-9e72-2fb9690645cb",
        "colab": {
          "base_uri": "https://localhost:8080/",
          "height": 68
        }
      },
      "source": [
        "# \n",
        "x=[-1,0,2,3,7,9]\n",
        "print(\"len\",len(x))     #0=-1,1=0,2=2,3=3,4=7,5=9   6 eleements\n",
        "for i in range(0,len(x)-4,1):   #(0,6,1)\n",
        "  print(x[i])   #x[0]=-1 x[1]= 0 x[2]=2 x[3]=3 x[4]=7 x[5]=9  x[6]    arrayname[indexname]"
      ],
      "execution_count": 39,
      "outputs": [
        {
          "output_type": "stream",
          "text": [
            "len 6\n",
            "-1\n",
            "0\n"
          ],
          "name": "stdout"
        }
      ]
    },
    {
      "cell_type": "code",
      "metadata": {
        "id": "vLCrrSjYl4lt",
        "outputId": "b2c43ddf-1c22-4597-8434-4c3784f0ba21",
        "colab": {
          "base_uri": "https://localhost:8080/",
          "height": 102
        }
      },
      "source": [
        "x=[-1,0,2,3,7,9,10,23]\n",
        "print(len(x))   #0=-1,1=0,2=2,3=3,4=7,5=9\n",
        "for i in range(0,len(x),2):   #(0,6,1)\n",
        "  print(x[i])  "
      ],
      "execution_count": 35,
      "outputs": [
        {
          "output_type": "stream",
          "text": [
            "8\n",
            "-1\n",
            "2\n",
            "7\n",
            "10\n"
          ],
          "name": "stdout"
        }
      ]
    },
    {
      "cell_type": "code",
      "metadata": {
        "id": "t9UJwFF9nEHj",
        "outputId": "2efccbd7-5a7d-486b-c838-72e596c3cb1f",
        "colab": {
          "base_uri": "https://localhost:8080/",
          "height": 170
        }
      },
      "source": [
        "# i wan\n",
        "\n",
        "y=[-1,0,9,3,4,5,67,78,56]\n",
        "n=len(y)\n",
        "for i in range(0,n,1):\n",
        "  print(y[i])"
      ],
      "execution_count": 45,
      "outputs": [
        {
          "output_type": "stream",
          "text": [
            "-1\n",
            "0\n",
            "9\n",
            "3\n",
            "4\n",
            "5\n",
            "67\n",
            "78\n",
            "56\n"
          ],
          "name": "stdout"
        }
      ]
    },
    {
      "cell_type": "code",
      "metadata": {
        "id": "0URzNCPhn-Rs",
        "outputId": "6ff2c399-b160-471e-dc52-a5ff41021a9c",
        "colab": {
          "base_uri": "https://localhost:8080/",
          "height": 102
        }
      },
      "source": [
        "y=[-1,0,9,3,4,5,67,78,56]\n",
        "n=len(y)\n",
        "for i in range(0,n,2):\n",
        "  print(y[i])"
      ],
      "execution_count": 46,
      "outputs": [
        {
          "output_type": "stream",
          "text": [
            "-1\n",
            "9\n",
            "4\n",
            "67\n",
            "56\n"
          ],
          "name": "stdout"
        }
      ]
    },
    {
      "cell_type": "code",
      "metadata": {
        "id": "QatDXerboDJ0",
        "outputId": "79db314c-901a-43f3-ad81-3db2ad96fe0b",
        "colab": {
          "base_uri": "https://localhost:8080/",
          "height": 85
        }
      },
      "source": [
        "y=[-1,0,9,3,4,5,67,78,56,90]\n",
        "n=len(y)\n",
        "for i in range(0,n,3):\n",
        "  print(y[i])"
      ],
      "execution_count": 48,
      "outputs": [
        {
          "output_type": "stream",
          "text": [
            "-1\n",
            "3\n",
            "67\n",
            "90\n"
          ],
          "name": "stdout"
        }
      ]
    },
    {
      "cell_type": "code",
      "metadata": {
        "id": "uCYfyTAaoN4F",
        "outputId": "5ab1efd3-c9c1-40f2-d9b5-3226e3040ebb",
        "colab": {
          "base_uri": "https://localhost:8080/",
          "height": 68
        }
      },
      "source": [
        "x=[-1,0,3,4,5,6]\n",
        "n=len(x)\n",
        "for i in range(0,n,1):\n",
        "  if(x[i]%2==0):\n",
        "    print(x[i])"
      ],
      "execution_count": 49,
      "outputs": [
        {
          "output_type": "stream",
          "text": [
            "0\n",
            "4\n",
            "6\n"
          ],
          "name": "stdout"
        }
      ]
    },
    {
      "cell_type": "code",
      "metadata": {
        "id": "RIPO_U1Sokfz",
        "outputId": "011cf071-26f4-4ec4-e7bc-39a6f29474b7",
        "colab": {
          "base_uri": "https://localhost:8080/",
          "height": 68
        }
      },
      "source": [
        "x=[-1,0,3,4,5,6]\n",
        "n=len(x)\n",
        "for i in range(0,n,1):\n",
        "  if(x[i]%2!=0):\n",
        "    print(x[i])"
      ],
      "execution_count": 50,
      "outputs": [
        {
          "output_type": "stream",
          "text": [
            "-1\n",
            "3\n",
            "5\n"
          ],
          "name": "stdout"
        }
      ]
    },
    {
      "cell_type": "code",
      "metadata": {
        "id": "XhRxvM5xo6mC",
        "outputId": "31e55e7b-3b4a-4dc5-85c6-f20df2901659",
        "colab": {
          "base_uri": "https://localhost:8080/",
          "height": 119
        }
      },
      "source": [
        "x=[-1,0,3,4,5,6]\n",
        "n=len(x)\n",
        "for i in range(0,n,1):\n",
        "  if (x[i]%2==0):\n",
        "    print(\"even\",x[i])\n",
        "  else:\n",
        "    print(\"odd\",x[i])"
      ],
      "execution_count": 52,
      "outputs": [
        {
          "output_type": "stream",
          "text": [
            "odd -1\n",
            "even 0\n",
            "odd 3\n",
            "even 4\n",
            "odd 5\n",
            "even 6\n"
          ],
          "name": "stdout"
        }
      ]
    },
    {
      "cell_type": "code",
      "metadata": {
        "id": "gLKcyWQ9pUkl"
      },
      "source": [
        "# printing 1 t0 10   even and odd   i\n",
        "# same cases using array\n",
        "#x[i]"
      ],
      "execution_count": null,
      "outputs": []
    },
    {
      "cell_type": "code",
      "metadata": {
        "id": "Znk2ZXOJpjbu",
        "outputId": "5c770e26-69b8-49e7-ef73-5d5917decaa0",
        "colab": {
          "base_uri": "https://localhost:8080/",
          "height": 187
        }
      },
      "source": [
        "#   i want to print 30 to 40 30,31,32,33,....40 etc\n",
        "\n",
        "x=30\n",
        "y=40\n",
        "for i in range(30,40,1):\n",
        "  print(i)\n"
      ],
      "execution_count": 55,
      "outputs": [
        {
          "output_type": "stream",
          "text": [
            "30\n",
            "31\n",
            "32\n",
            "33\n",
            "34\n",
            "35\n",
            "36\n",
            "37\n",
            "38\n",
            "39\n"
          ],
          "name": "stdout"
        }
      ]
    },
    {
      "cell_type": "code",
      "metadata": {
        "id": "Mm9qA3-IqGHL",
        "outputId": "ea47eaeb-8f8f-4857-a1ec-d4ceeb23e139",
        "colab": {
          "base_uri": "https://localhost:8080/",
          "height": 170
        }
      },
      "source": [
        "x=30\n",
        "y=40\n",
        "for i in range(30,40,1):\n",
        "  if(i==39):\n",
        "    break\n",
        "  print(i)"
      ],
      "execution_count": 57,
      "outputs": [
        {
          "output_type": "stream",
          "text": [
            "30\n",
            "31\n",
            "32\n",
            "33\n",
            "34\n",
            "35\n",
            "36\n",
            "37\n",
            "38\n"
          ],
          "name": "stdout"
        }
      ]
    },
    {
      "cell_type": "code",
      "metadata": {
        "id": "JEf8ox3RqQkH",
        "outputId": "ce577a7b-4972-4c4c-fec8-9a7421fa6523",
        "colab": {
          "base_uri": "https://localhost:8080/",
          "height": 68
        }
      },
      "source": [
        "x=30\n",
        "y=40\n",
        "for i in range(30,40,1):\n",
        "  if(i==33):\n",
        "    break\n",
        "  print(i)"
      ],
      "execution_count": 58,
      "outputs": [
        {
          "output_type": "stream",
          "text": [
            "30\n",
            "31\n",
            "32\n"
          ],
          "name": "stdout"
        }
      ]
    },
    {
      "cell_type": "code",
      "metadata": {
        "id": "psb7fwknqYQp",
        "outputId": "522a4a08-83c0-4830-c286-412455c0299e",
        "colab": {
          "base_uri": "https://localhost:8080/",
          "height": 357
        }
      },
      "source": [
        " # 20 to 45\n",
        " # break the loop at 40\n",
        " x=20\n",
        " y=45    # 20,21,22,......40.........44\n",
        " for i in range(20,45,1):\n",
        "   if(i==40):\n",
        "     break\n",
        "   print(i)"
      ],
      "execution_count": 59,
      "outputs": [
        {
          "output_type": "stream",
          "text": [
            "20\n",
            "21\n",
            "22\n",
            "23\n",
            "24\n",
            "25\n",
            "26\n",
            "27\n",
            "28\n",
            "29\n",
            "30\n",
            "31\n",
            "32\n",
            "33\n",
            "34\n",
            "35\n",
            "36\n",
            "37\n",
            "38\n",
            "39\n"
          ],
          "name": "stdout"
        }
      ]
    },
    {
      "cell_type": "code",
      "metadata": {
        "id": "hkp8O_PAq-zu",
        "outputId": "4e41aace-cdde-49ea-d442-833028cbc0f3",
        "colab": {
          "base_uri": "https://localhost:8080/",
          "height": 374
        }
      },
      "source": [
        " x=20\n",
        " y=45\n",
        " for i in range(x,y,1):\n",
        "   print(i)  \n",
        "   if(i==40):\n",
        "     break\n",
        "  \n",
        "  "
      ],
      "execution_count": 61,
      "outputs": [
        {
          "output_type": "stream",
          "text": [
            "20\n",
            "21\n",
            "22\n",
            "23\n",
            "24\n",
            "25\n",
            "26\n",
            "27\n",
            "28\n",
            "29\n",
            "30\n",
            "31\n",
            "32\n",
            "33\n",
            "34\n",
            "35\n",
            "36\n",
            "37\n",
            "38\n",
            "39\n",
            "40\n"
          ],
          "name": "stdout"
        }
      ]
    },
    {
      "cell_type": "code",
      "metadata": {
        "id": "mkbu-TmNrVDm",
        "outputId": "2ac8ebe0-8fd8-4bba-dd26-8338d2396011",
        "colab": {
          "base_uri": "https://localhost:8080/",
          "height": 374
        }
      },
      "source": [
        "\n",
        "for i in range(20,45,1):\n",
        "   if(i==41):\n",
        "     break\n",
        "   print(i)"
      ],
      "execution_count": 63,
      "outputs": [
        {
          "output_type": "stream",
          "text": [
            "20\n",
            "21\n",
            "22\n",
            "23\n",
            "24\n",
            "25\n",
            "26\n",
            "27\n",
            "28\n",
            "29\n",
            "30\n",
            "31\n",
            "32\n",
            "33\n",
            "34\n",
            "35\n",
            "36\n",
            "37\n",
            "38\n",
            "39\n",
            "40\n"
          ],
          "name": "stdout"
        }
      ]
    },
    {
      "cell_type": "code",
      "metadata": {
        "id": "pEfbEbeqsrG6",
        "outputId": "55acce6d-8591-401a-f518-9cbda3ea093b",
        "colab": {
          "base_uri": "https://localhost:8080/",
          "height": 119
        }
      },
      "source": [
        "#  20 to 30\n",
        "# i want to break 25\n",
        "\n",
        "for i in range(20,31,1):\n",
        "  if(i==26):\n",
        "    break\n",
        "  print(i)"
      ],
      "execution_count": 68,
      "outputs": [
        {
          "output_type": "stream",
          "text": [
            "20\n",
            "21\n",
            "22\n",
            "23\n",
            "24\n",
            "25\n"
          ],
          "name": "stdout"
        }
      ]
    },
    {
      "cell_type": "code",
      "metadata": {
        "id": "VKy5sPWTtIXF",
        "outputId": "1d544753-6994-4f00-e888-298a584f8877",
        "colab": {
          "base_uri": "https://localhost:8080/",
          "height": 136
        }
      },
      "source": [
        "# 10 to 20\n",
        "for i in range(10,21,1):\n",
        "  if(i==17):\n",
        "    break\n",
        "  print(i)"
      ],
      "execution_count": 71,
      "outputs": [
        {
          "output_type": "stream",
          "text": [
            "10\n",
            "11\n",
            "12\n",
            "13\n",
            "14\n",
            "15\n",
            "16\n"
          ],
          "name": "stdout"
        }
      ]
    },
    {
      "cell_type": "code",
      "metadata": {
        "id": "NqaojGuftZ3M",
        "outputId": "e311cce6-505e-4a41-c16a-7c78d71328ac",
        "colab": {
          "base_uri": "https://localhost:8080/",
          "height": 187
        }
      },
      "source": [
        "for i in range(10,21,1):\n",
        "  if(i==14):\n",
        "    continue\n",
        "  print(i)"
      ],
      "execution_count": 73,
      "outputs": [
        {
          "output_type": "stream",
          "text": [
            "10\n",
            "11\n",
            "12\n",
            "13\n",
            "15\n",
            "16\n",
            "17\n",
            "18\n",
            "19\n",
            "20\n"
          ],
          "name": "stdout"
        }
      ]
    },
    {
      "cell_type": "code",
      "metadata": {
        "id": "kj11nGwWt0a0",
        "outputId": "3b0612fd-b030-412e-f0bb-57baa69b6810",
        "colab": {
          "base_uri": "https://localhost:8080/",
          "height": 136
        }
      },
      "source": [
        "# 45  10 55  \n",
        "\n",
        "# break at 51   # continue\n",
        "\n",
        "x=45\n",
        "y=56\n",
        "for i in range(x,y,1):\n",
        "  if(i==52):\n",
        "    break\n",
        "  print(i)"
      ],
      "execution_count": 75,
      "outputs": [
        {
          "output_type": "stream",
          "text": [
            "45\n",
            "46\n",
            "47\n",
            "48\n",
            "49\n",
            "50\n",
            "51\n"
          ],
          "name": "stdout"
        }
      ]
    },
    {
      "cell_type": "code",
      "metadata": {
        "id": "H66tamCuuwni",
        "outputId": "7234167c-ef0a-4664-e21f-3571a057a73b",
        "colab": {
          "base_uri": "https://localhost:8080/",
          "height": 272
        }
      },
      "source": [
        "# 60 to 75\n",
        "# 69\n",
        "x=60\n",
        "y=76\n",
        "for i in range(x,y,1):\n",
        "  if(i==69):\n",
        "    continue\n",
        "  print(i)"
      ],
      "execution_count": 81,
      "outputs": [
        {
          "output_type": "stream",
          "text": [
            "60\n",
            "61\n",
            "62\n",
            "63\n",
            "64\n",
            "65\n",
            "66\n",
            "67\n",
            "68\n",
            "70\n",
            "71\n",
            "72\n",
            "73\n",
            "74\n",
            "75\n"
          ],
          "name": "stdout"
        }
      ]
    },
    {
      "cell_type": "code",
      "metadata": {
        "id": "N6p6T8cAv5AQ",
        "outputId": "58703be8-1e36-4ed4-a6ac-ceedc663403c",
        "colab": {
          "base_uri": "https://localhost:8080/",
          "height": 272
        }
      },
      "source": [
        "x=60\n",
        "y=75   # instead of here\n",
        "for i in range(x,y+1,1):\n",
        "  if(i==69):\n",
        "    continue\n",
        "  print(i)"
      ],
      "execution_count": 83,
      "outputs": [
        {
          "output_type": "stream",
          "text": [
            "60\n",
            "61\n",
            "62\n",
            "63\n",
            "64\n",
            "65\n",
            "66\n",
            "67\n",
            "68\n",
            "70\n",
            "71\n",
            "72\n",
            "73\n",
            "74\n",
            "75\n"
          ],
          "name": "stdout"
        }
      ]
    },
    {
      "cell_type": "code",
      "metadata": {
        "id": "fULrplm8wHZd",
        "outputId": "b861e455-fdd6-4637-8918-279bab442fda",
        "colab": {
          "base_uri": "https://localhost:8080/",
          "height": 102
        }
      },
      "source": [
        "x=[\"apple\",\"ball\",\"cat\",\"dog\",\"abc\"]\n",
        "for i in x:   \n",
        "  print(i)"
      ],
      "execution_count": 87,
      "outputs": [
        {
          "output_type": "stream",
          "text": [
            "apple\n",
            "ball\n",
            "cat\n",
            "dog\n",
            "abc\n"
          ],
          "name": "stdout"
        }
      ]
    },
    {
      "cell_type": "code",
      "metadata": {
        "id": "XRtzOvgPwbGh",
        "outputId": "98d56f47-62c0-4f7e-c5c7-e40405377e16",
        "colab": {
          "base_uri": "https://localhost:8080/",
          "height": 34
        }
      },
      "source": [
        "print(x)"
      ],
      "execution_count": 88,
      "outputs": [
        {
          "output_type": "stream",
          "text": [
            "['apple', 'ball', 'cat', 'dog', 'abc']\n"
          ],
          "name": "stdout"
        }
      ]
    },
    {
      "cell_type": "code",
      "metadata": {
        "id": "FXpTjr2LwrLL",
        "outputId": "ff431308-ec34-428a-8a67-cbc24eec5805",
        "colab": {
          "base_uri": "https://localhost:8080/",
          "height": 102
        }
      },
      "source": [
        "# abc 123 xyz LMN ANU   x=1 \"str\" 3.6   x=[1,\"str\",3.6]  list =array\n",
        "anusha=[\"abc\",\"123\",\"xyz\",\"LMN\",\"ANU\"]  \n",
        "for i in anusha:\n",
        "  print(i)"
      ],
      "execution_count": 93,
      "outputs": [
        {
          "output_type": "stream",
          "text": [
            "abc\n",
            "123\n",
            "xyz\n",
            "LMN\n",
            "ANU\n"
          ],
          "name": "stdout"
        }
      ]
    },
    {
      "cell_type": "code",
      "metadata": {
        "id": "py5TdUvFxbMt",
        "outputId": "35d4e8c5-dfbe-4247-b4f5-802d1db14bc8",
        "colab": {
          "base_uri": "https://localhost:8080/",
          "height": 34
        }
      },
      "source": [
        "print(my_array)"
      ],
      "execution_count": 91,
      "outputs": [
        {
          "output_type": "stream",
          "text": [
            "['abc', '123', 'xyz', 'LMN', 'ANU']\n"
          ],
          "name": "stdout"
        }
      ]
    },
    {
      "cell_type": "code",
      "metadata": {
        "id": "lD_NUIW1x7gj",
        "outputId": "448f95c5-8e3a-427e-fcb6-c04f130a045e",
        "colab": {
          "base_uri": "https://localhost:8080/",
          "height": 51
        }
      },
      "source": [
        "# it should starts with A-Z a-z  _ underscore\n",
        "# in middle A to Z a-z or numbers or _underscore\n",
        "\n",
        "anusha=1\n",
        "_anusha=2\n",
        "\n",
        "\n",
        "print(anusha)\n",
        "print(_anusha)\n"
      ],
      "execution_count": 94,
      "outputs": [
        {
          "output_type": "stream",
          "text": [
            "1\n",
            "2\n"
          ],
          "name": "stdout"
        }
      ]
    },
    {
      "cell_type": "code",
      "metadata": {
        "id": "bu4F0iN0yrZu",
        "outputId": "d00f971c-d5a0-4d1a-adda-68f441712205",
        "colab": {
          "base_uri": "https://localhost:8080/",
          "height": 34
        }
      },
      "source": [
        "anu1x=5\n",
        "print(anu1x)"
      ],
      "execution_count": 98,
      "outputs": [
        {
          "output_type": "stream",
          "text": [
            "5\n"
          ],
          "name": "stdout"
        }
      ]
    },
    {
      "cell_type": "code",
      "metadata": {
        "id": "9AdhyYubzEuT",
        "outputId": "271cb22e-5d86-4f5f-e7e2-aa75faff8ace",
        "colab": {
          "base_uri": "https://localhost:8080/",
          "height": 34
        }
      },
      "source": [
        "anu_1_xyz=567\n",
        "print(anu_1_xyz)"
      ],
      "execution_count": 99,
      "outputs": [
        {
          "output_type": "stream",
          "text": [
            "567\n"
          ],
          "name": "stdout"
        }
      ]
    },
    {
      "cell_type": "code",
      "metadata": {
        "id": "W34Ie_zSzJ4j",
        "outputId": "60b6f664-ff2b-46c0-b70b-0179abee7ea7",
        "colab": {
          "base_uri": "https://localhost:8080/",
          "height": 34
        }
      },
      "source": [
        "vaishnavee_1=3\n",
        "print(vaishnavee_1)"
      ],
      "execution_count": 101,
      "outputs": [
        {
          "output_type": "stream",
          "text": [
            "3\n"
          ],
          "name": "stdout"
        }
      ]
    },
    {
      "cell_type": "code",
      "metadata": {
        "id": "5vVJbiKQzY2q",
        "outputId": "f054e7ce-cdb1-4666-a439-090cf1338d28",
        "colab": {
          "base_uri": "https://localhost:8080/",
          "height": 34
        }
      },
      "source": [
        "_vaishu=5.67\n",
        "print(_vaishu)"
      ],
      "execution_count": 104,
      "outputs": [
        {
          "output_type": "stream",
          "text": [
            "5.67\n"
          ],
          "name": "stdout"
        }
      ]
    },
    {
      "cell_type": "code",
      "metadata": {
        "id": "d-Jq8xo4zod_"
      },
      "source": [
        "#for loops\n",
        "# some example and break and conti\n",
        "# array acc\n",
        "#examples\n"
      ],
      "execution_count": null,
      "outputs": []
    }
  ]
}