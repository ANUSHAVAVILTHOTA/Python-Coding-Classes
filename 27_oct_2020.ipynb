{
  "nbformat": 4,
  "nbformat_minor": 0,
  "metadata": {
    "colab": {
      "name": "27-oct-2020.ipynb",
      "provenance": []
    },
    "kernelspec": {
      "name": "python3",
      "display_name": "Python 3"
    }
  },
  "cells": [
    {
      "cell_type": "code",
      "metadata": {
        "id": "zBubce6UvNI5",
        "outputId": "0f1a2cae-7dae-4c4d-d8de-228d826c35ee",
        "colab": {
          "base_uri": "https://localhost:8080/",
          "height": 34
        }
      },
      "source": [
        "#datetime module \n",
        "import datetime\n",
        "x=datetime.datetime.now()  #current date\n",
        "print(x)"
      ],
      "execution_count": null,
      "outputs": [
        {
          "output_type": "stream",
          "text": [
            "2020-10-27 02:04:43.909178\n"
          ],
          "name": "stdout"
        }
      ]
    },
    {
      "cell_type": "code",
      "metadata": {
        "id": "fnwww6Jlwa2g",
        "outputId": "6352c756-00e2-4b08-9516-6b88b4482c85",
        "colab": {
          "base_uri": "https://localhost:8080/",
          "height": 34
        }
      },
      "source": [
        "import datetime\n",
        "x=datetime.datetime.now()\n",
        "print(x.year)"
      ],
      "execution_count": null,
      "outputs": [
        {
          "output_type": "stream",
          "text": [
            "2020\n"
          ],
          "name": "stdout"
        }
      ]
    },
    {
      "cell_type": "code",
      "metadata": {
        "id": "gvToPzoBzV11",
        "outputId": "3f138a36-d5a5-4d26-df9b-24ee2b0624ca",
        "colab": {
          "base_uri": "https://localhost:8080/",
          "height": 34
        }
      },
      "source": [
        "import datetime\n",
        "x=datetime.datetime.now()\n",
        "print(x.month)"
      ],
      "execution_count": null,
      "outputs": [
        {
          "output_type": "stream",
          "text": [
            "10\n"
          ],
          "name": "stdout"
        }
      ]
    },
    {
      "cell_type": "code",
      "metadata": {
        "id": "Q0JLCrAyzYiT",
        "outputId": "ff31ecfc-f145-456e-a5f1-b721054a4715",
        "colab": {
          "base_uri": "https://localhost:8080/",
          "height": 34
        }
      },
      "source": [
        "import datetime\n",
        "x=datetime.datetime.now()\n",
        "print(x.day)"
      ],
      "execution_count": null,
      "outputs": [
        {
          "output_type": "stream",
          "text": [
            "27\n"
          ],
          "name": "stdout"
        }
      ]
    },
    {
      "cell_type": "code",
      "metadata": {
        "id": "8pL5WLoD8_xv",
        "outputId": "ba26e2f2-1446-4fc0-be92-1ec61bd35b90",
        "colab": {
          "base_uri": "https://localhost:8080/",
          "height": 68
        }
      },
      "source": [
        "import datetime\n",
        "x=datetime.datetime.now()\n",
        "print(x.minute)\n",
        "print(x.second)\n",
        "print(x.hour)"
      ],
      "execution_count": null,
      "outputs": [
        {
          "output_type": "stream",
          "text": [
            "47\n",
            "54\n",
            "2\n"
          ],
          "name": "stdout"
        }
      ]
    },
    {
      "cell_type": "code",
      "metadata": {
        "id": "vZBPCEQOzf75",
        "outputId": "241e3ea8-80c4-44bc-eb57-4a38279a3b44",
        "colab": {
          "base_uri": "https://localhost:8080/",
          "height": 136
        }
      },
      "source": [
        "import datetime\n",
        "import pytz\n",
        "\n",
        "x=datetime.datetime.now(tz=pytz.timezone('Asia/Kolkata'))\n",
        "print(x)\n",
        "print(x.year)\n",
        "print(x.month)\n",
        "print(x.day)\n",
        "print(x.hour)\n",
        "print(x.minute)\n",
        "print(x.second)"
      ],
      "execution_count": null,
      "outputs": [
        {
          "output_type": "stream",
          "text": [
            "2020-10-27 08:18:46.023074+05:30\n",
            "2020\n",
            "10\n",
            "27\n",
            "8\n",
            "18\n",
            "46\n"
          ],
          "name": "stdout"
        }
      ]
    },
    {
      "cell_type": "code",
      "metadata": {
        "id": "z3zf59xx0zl0",
        "outputId": "1c5f1ace-9f69-4a75-8e81-176d94f75bff",
        "colab": {
          "base_uri": "https://localhost:8080/",
          "height": 119
        }
      },
      "source": [
        "import datetime\n",
        "import pytz\n",
        "y=datetime.datetime.now(tz=pytz.timezone('Asia/Kolkata'))\n",
        "print(y)\n",
        "#short form of weekday\n",
        "print(y.strftime(\"%a\"))\n",
        "#full form of weekday\n",
        "print(y.strftime(\"%A\"))\n",
        "print(y.strftime(\"%b\"))\n",
        "print(y.strftime(\"%B\"))\n",
        "print(y.strftime(\"%y\"))  "
      ],
      "execution_count": null,
      "outputs": [
        {
          "output_type": "stream",
          "text": [
            "2020-10-27 08:02:59.198335+05:30\n",
            "Tue\n",
            "Tuesday\n",
            "Oct\n",
            "October\n",
            "20\n"
          ],
          "name": "stdout"
        }
      ]
    },
    {
      "cell_type": "code",
      "metadata": {
        "id": "NBpyMCt91cbx",
        "outputId": "c78aadbb-9e56-4a45-dc3c-f1631ef5c617",
        "colab": {
          "base_uri": "https://localhost:8080/",
          "height": 68
        }
      },
      "source": [
        "print(y.strftime(\"%w\"))  #    #0 sun 1-mon 2-tue 3-wed 4 thu 5 fri 6-sat  #53    365 366   \n",
        "print(y.strftime(\"%U\"))\n",
        "print(y.strftime(\"%j\"))"
      ],
      "execution_count": null,
      "outputs": [
        {
          "output_type": "stream",
          "text": [
            "2\n",
            "43\n",
            "301\n"
          ],
          "name": "stdout"
        }
      ]
    },
    {
      "cell_type": "code",
      "metadata": {
        "id": "Oj_4yuS22RHk",
        "outputId": "11149268-d2f6-4fcc-b72c-731bd7ffea6e",
        "colab": {
          "base_uri": "https://localhost:8080/",
          "height": 85
        }
      },
      "source": [
        "print(y.strftime(\"%d\"))\n",
        "print(y.strftime(\"%m\"))\n",
        "print(y.strftime(\"%y\"))\n",
        "print(y.strftime(\"%Y\"))  #y.year or %Y\n",
        "   #1-31 / 1=30  x.day"
      ],
      "execution_count": null,
      "outputs": [
        {
          "output_type": "stream",
          "text": [
            "27\n",
            "10\n",
            "20\n",
            "2020\n"
          ],
          "name": "stdout"
        }
      ]
    },
    {
      "cell_type": "code",
      "metadata": {
        "id": "q3v3KayD2pw9",
        "outputId": "ede4917e-5186-4633-dc24-05d4ec646387",
        "colab": {
          "base_uri": "https://localhost:8080/",
          "height": 85
        }
      },
      "source": [
        "print(y.strftime(\"%H\"))\n",
        "print(y.strftime(\"%M\"))\n",
        "print(y.strftime(\"%S\"))\n",
        "print(y.strftime(\"%f\"))"
      ],
      "execution_count": null,
      "outputs": [
        {
          "output_type": "stream",
          "text": [
            "08\n",
            "02\n",
            "59\n",
            "198335\n"
          ],
          "name": "stdout"
        }
      ]
    },
    {
      "cell_type": "code",
      "metadata": {
        "id": "JdJEmOUi7Ht_"
      },
      "source": [
        ""
      ],
      "execution_count": null,
      "outputs": []
    },
    {
      "cell_type": "code",
      "metadata": {
        "id": "qn0uBlHi6XyB",
        "outputId": "ae540506-4947-4cb0-e724-bc7270af3dc7",
        "colab": {
          "base_uri": "https://localhost:8080/",
          "height": 85
        }
      },
      "source": [
        "#year month date\n",
        "#2020 10 27\n",
        "import datetime\n",
        "import pytz\n",
        "x=datetime.datetime.now(tz=pytz.timezone(\"Asia/Kolkata\"))\n",
        "print(x)\n",
        "print(x.strftime(\"%Y\"))\n",
        "print(x.strftime(\"%m\"))\n",
        "print(x.strftime(\"%d\"))"
      ],
      "execution_count": null,
      "outputs": [
        {
          "output_type": "stream",
          "text": [
            "2020-10-27 08:23:04.296182+05:30\n",
            "2020\n",
            "10\n",
            "27\n"
          ],
          "name": "stdout"
        }
      ]
    },
    {
      "cell_type": "code",
      "metadata": {
        "id": "-VmNHR6m8MIN",
        "outputId": "c8254b3a-12ef-4849-b40c-747e24d8c880",
        "colab": {
          "base_uri": "https://localhost:8080/",
          "height": 68
        }
      },
      "source": [
        "print(x.strftime(\"%x\"))  #local version of date\n",
        "print(x.strftime(\"%X\"))   #local version of time\n",
        "print(x.strftime(\"%c\"))   #local version of time and date"
      ],
      "execution_count": null,
      "outputs": [
        {
          "output_type": "stream",
          "text": [
            "10/27/20\n",
            "08:13:43\n",
            "Tue Oct 27 08:13:43 2020\n"
          ],
          "name": "stdout"
        }
      ]
    },
    {
      "cell_type": "code",
      "metadata": {
        "id": "wZTu6NXF-ehM",
        "outputId": "eb922634-85d7-4b0a-97bf-c007b00d8197",
        "colab": {
          "base_uri": "https://localhost:8080/",
          "height": 51
        }
      },
      "source": [
        "#get input from user\n",
        "x=input()\n",
        "print(\"output\",x)"
      ],
      "execution_count": null,
      "outputs": [
        {
          "output_type": "stream",
          "text": [
            "Anusha\n",
            "output Anusha\n"
          ],
          "name": "stdout"
        }
      ]
    },
    {
      "cell_type": "code",
      "metadata": {
        "id": "Pp83uHoj-4x2",
        "outputId": "0e7b86e4-c1f5-4644-f6c5-9c6719ca6055",
        "colab": {
          "base_uri": "https://localhost:8080/",
          "height": 68
        }
      },
      "source": [
        "# 84\n",
        "#check even or not\n",
        "x=input()  #84 string\n",
        "x=int(x)    #converting to int\n",
        "if(x%2==0):\n",
        "  print(x,\"is even number\")\n",
        "else:\n",
        "  print(\"x, is odd number\")\n",
        "  print(x,\"is odd number\")"
      ],
      "execution_count": null,
      "outputs": [
        {
          "output_type": "stream",
          "text": [
            "77\n",
            "x, is odd number\n",
            "77 is odd number\n"
          ],
          "name": "stdout"
        }
      ]
    },
    {
      "cell_type": "code",
      "metadata": {
        "id": "L5JE4ecs_vgH",
        "outputId": "e810edb2-b581-4254-be20-59c3fc0c42db",
        "colab": {
          "base_uri": "https://localhost:8080/",
          "height": 51
        }
      },
      "source": [
        "x=input()\n",
        "print(x)"
      ],
      "execution_count": null,
      "outputs": [
        {
          "output_type": "stream",
          "text": [
            "[\"anu\",\"xyz\"]\n",
            "[\"anu\",\"xyz\"]\n"
          ],
          "name": "stdout"
        }
      ]
    },
    {
      "cell_type": "code",
      "metadata": {
        "id": "PlTCiYlWAWwB",
        "outputId": "a04a2fc4-89b5-4113-881f-8ce130456721",
        "colab": {
          "base_uri": "https://localhost:8080/",
          "height": 51
        }
      },
      "source": [
        "# [\"xyz\",\"abc\",\"apple\",\"food\"]\n",
        "# xyz\n",
        "# abc\n",
        "# apple\n",
        "# food\n",
        "x=input()\n",
        "print(x)\n",
        "# for word in x:\n",
        "#   print(word)"
      ],
      "execution_count": null,
      "outputs": [
        {
          "output_type": "stream",
          "text": [
            "[\"xyz\",\"abc\",\"apple\",\"food\"]\n",
            "[\"xyz\",\"abc\",\"apple\",\"food\"]\n"
          ],
          "name": "stdout"
        }
      ]
    },
    {
      "cell_type": "code",
      "metadata": {
        "id": "zfb-KMuCA3Hj",
        "outputId": "64836345-78b8-47c2-834c-07196c0d86ad",
        "colab": {
          "base_uri": "https://localhost:8080/",
          "height": 68
        }
      },
      "source": [
        "x=input()\n",
        "y=input()\n",
        "print(x,y)"
      ],
      "execution_count": null,
      "outputs": [
        {
          "output_type": "stream",
          "text": [
            "23\n",
            "34\n",
            "23 34\n"
          ],
          "name": "stdout"
        }
      ]
    },
    {
      "cell_type": "code",
      "metadata": {
        "id": "HFqyw5y6BEvq",
        "outputId": "a624711a-bcb9-443f-f9ca-39c8661a8b25",
        "colab": {
          "base_uri": "https://localhost:8080/",
          "height": 102
        }
      },
      "source": [
        "# 3 inputs and print that number if it is even\n",
        "\n",
        "x=input()  #string\n",
        "x=int(x)\n",
        "if(x%2==0):  \n",
        "  print(x)\n",
        "y=input()\n",
        "y=int(y)\n",
        "if(y%2==0):\n",
        "  print(y)\n",
        "z=input()\n",
        "z=int(z)\n",
        "if(z%2==0):\n",
        "  print(z)"
      ],
      "execution_count": null,
      "outputs": [
        {
          "output_type": "stream",
          "text": [
            "34\n",
            "34\n",
            "67\n",
            "88\n",
            "88\n"
          ],
          "name": "stdout"
        }
      ]
    },
    {
      "cell_type": "code",
      "metadata": {
        "id": "wuxN2heWCBzN",
        "outputId": "3ebb030f-3588-4556-c584-fda5e564b647",
        "colab": {
          "base_uri": "https://localhost:8080/",
          "height": 119
        }
      },
      "source": [
        "#5 inputs from user and add finally print the sum   23+34+56+76+67=sum\n",
        "\n",
        "x=input()\n",
        "x=int(x)\n",
        "\n",
        "y=input()\n",
        "y=int(y)\n",
        "\n",
        "z=input()\n",
        "z=int(z)\n",
        "\n",
        "k=input()\n",
        "k=int(k)\n",
        "\n",
        "m=input()\n",
        "m=int(m)\n",
        "\n",
        "sum=x+y+z+k+m\n",
        "\n",
        "print(sum)"
      ],
      "execution_count": null,
      "outputs": [
        {
          "output_type": "stream",
          "text": [
            "34\n",
            "45\n",
            "23\n",
            "56\n",
            "23\n",
            "181\n"
          ],
          "name": "stdout"
        }
      ]
    },
    {
      "cell_type": "code",
      "metadata": {
        "id": "-8YFRAkVDCcI",
        "outputId": "3604c509-7e65-42da-90a4-05ec5701047a",
        "colab": {
          "base_uri": "https://localhost:8080/",
          "height": 119
        }
      },
      "source": [
        "#   45*34*67-34/56\n",
        "x=input()\n",
        "y=input()\n",
        "z=input()\n",
        "k=input()\n",
        "m=input()\n",
        "\n",
        "x=int(x)\n",
        "y=int(y)\n",
        "z=int(z)\n",
        "k=int(k)\n",
        "m=int(m)\n",
        "\n",
        "cal=x*y*z-k/m\n",
        "print(cal)\n"
      ],
      "execution_count": null,
      "outputs": [
        {
          "output_type": "stream",
          "text": [
            "23\n",
            "67\n",
            "76\n",
            "45\n",
            "34\n",
            "117114.67647058824\n"
          ],
          "name": "stdout"
        }
      ]
    },
    {
      "cell_type": "code",
      "metadata": {
        "id": "RCkrdAY7Dqmt",
        "outputId": "856aa2de-7974-4983-9a61-914fb0b92375",
        "colab": {
          "base_uri": "https://localhost:8080/",
          "height": 68
        }
      },
      "source": [
        "#take 2 val from user find diff then check  it is positive or neg zero\n",
        "#45-35 =10 positive\n",
        "#35-45 =-10 neg\n",
        "#45-45 =0 zero\n",
        "\n",
        "x=input()\n",
        "y=input()\n",
        "x=int(x)\n",
        "y=int(y)\n",
        "\n",
        "#10>0   -10<0  0=0\n",
        "z=x-y  \n",
        "if(z>0):\n",
        "  print(\"positive\")\n",
        "elif (z<0):\n",
        "  print(\"negative\")\n",
        "else:\n",
        "  print(\"zero\")"
      ],
      "execution_count": null,
      "outputs": [
        {
          "output_type": "stream",
          "text": [
            "45\n",
            "45\n",
            "zero\n"
          ],
          "name": "stdout"
        }
      ]
    },
    {
      "cell_type": "code",
      "metadata": {
        "id": "_Hy31G1dFafP",
        "outputId": "38676704-c666-448d-cdb8-c92287fcc116",
        "colab": {
          "base_uri": "https://localhost:8080/",
          "height": 68
        }
      },
      "source": [
        "x=input()  #45\n",
        "y=input()  #35\n",
        "x=int(x)   #45\n",
        "y=int(y)  #35\n",
        "\n",
        "def calculate_diff(a,b):  # a=x b=y  #a=45 b=35\n",
        "   z=a-b  #10>0 -10<0  0==0\n",
        "   if(z>0):\n",
        "      print(\"positive\")\n",
        "   elif (z<0):\n",
        "      print(\"negative\")\n",
        "   else:\n",
        "      print(\"zero\")\n",
        "\n",
        "calculate_diff(x,y) #45 35  as"
      ],
      "execution_count": null,
      "outputs": [
        {
          "output_type": "stream",
          "text": [
            "35\n",
            "5\n",
            "positive\n"
          ],
          "name": "stdout"
        }
      ]
    }
  ]
}