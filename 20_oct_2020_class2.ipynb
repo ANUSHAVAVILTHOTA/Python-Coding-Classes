{
  "nbformat": 4,
  "nbformat_minor": 0,
  "metadata": {
    "colab": {
      "name": "20-oct-2020 class2.ipynb",
      "provenance": []
    },
    "kernelspec": {
      "name": "python3",
      "display_name": "Python 3"
    }
  },
  "cells": [
    {
      "cell_type": "code",
      "metadata": {
        "id": "x3bta3DA2hWJ",
        "outputId": "d89542f4-3b25-440e-ebaa-345c932c16bd",
        "colab": {
          "base_uri": "https://localhost:8080/",
          "height": 34
        }
      },
      "source": [
        "#tuple\n",
        "\n",
        "#integers\n",
        "my_tuple=(1,2,3)  #[]\n",
        "print(my_tuple)"
      ],
      "execution_count": 3,
      "outputs": [
        {
          "output_type": "stream",
          "text": [
            "(1, 2, 3)\n"
          ],
          "name": "stdout"
        }
      ]
    },
    {
      "cell_type": "code",
      "metadata": {
        "id": "AFc3jGgN5_OK",
        "outputId": "1ad4e401-70b6-4bb7-d0dc-a718a481eb6b",
        "colab": {
          "base_uri": "https://localhost:8080/",
          "height": 34
        }
      },
      "source": [
        "#mixed dtypes\n",
        "my_tuple=(1,3.4,\"hello\")\n",
        "print(my_tuple)"
      ],
      "execution_count": 5,
      "outputs": [
        {
          "output_type": "stream",
          "text": [
            "(1, 3.4, 'hello')\n"
          ],
          "name": "stdout"
        }
      ]
    },
    {
      "cell_type": "code",
      "metadata": {
        "id": "jIf4ou5H6LA6",
        "outputId": "735e5f74-6f36-428b-adeb-3081268c976f",
        "colab": {
          "base_uri": "https://localhost:8080/",
          "height": 102
        }
      },
      "source": [
        "#tuple packing\n",
        "my_tuple=3,4.5,6,\"anu\",\"hello\"\n",
        "#un packing\n",
        "a,b,c,d,e=my_tuple\n",
        "print(a)\n",
        "print(b)\n",
        "print(c)\n",
        "print(d)\n",
        "print(e)"
      ],
      "execution_count": 9,
      "outputs": [
        {
          "output_type": "stream",
          "text": [
            "3\n",
            "4.5\n",
            "6\n",
            "anu\n",
            "hello\n"
          ],
          "name": "stdout"
        }
      ]
    },
    {
      "cell_type": "code",
      "metadata": {
        "id": "iKw4IoEk7Qwm",
        "outputId": "fbe6a161-4462-446a-8f13-83014e71dfb2",
        "colab": {
          "base_uri": "https://localhost:8080/",
          "height": 68
        }
      },
      "source": [
        "#Acc\n",
        "my_tuple=(\"a\",\"n\",\"u\",\"s\",\"h\",\"a\")  #n  0-a 1-n .......\n",
        "print(my_tuple[1])\n",
        "print(my_tuple[2])\n",
        "print(my_tuple[4])"
      ],
      "execution_count": 12,
      "outputs": [
        {
          "output_type": "stream",
          "text": [
            "n\n",
            "u\n",
            "h\n"
          ],
          "name": "stdout"
        }
      ]
    },
    {
      "cell_type": "code",
      "metadata": {
        "id": "PeP_6XAR6A6A",
        "outputId": "29ef7298-cf76-459c-b502-3c45d65ca6c2",
        "colab": {
          "base_uri": "https://localhost:8080/",
          "height": 51
        }
      },
      "source": [
        "#nested tuple\n",
        "my_name=(1,5,6,(3,4,5),7)  # 0-1 1-5 2-6 3-(3,4,5) 4-7\n",
        "print(my_name[2])  #0=3 1=4 2=5\n",
        "print(my_name[3][1])  #2.0"
      ],
      "execution_count": 18,
      "outputs": [
        {
          "output_type": "stream",
          "text": [
            "6\n",
            "4\n"
          ],
          "name": "stdout"
        }
      ]
    },
    {
      "cell_type": "code",
      "metadata": {
        "id": "Xo9Kzzd19Ce1",
        "outputId": "526a2495-7458-4910-ebbb-5b868711a3b7",
        "colab": {
          "base_uri": "https://localhost:8080/",
          "height": 51
        }
      },
      "source": [
        "#neg index\n",
        "name=(12,1,3,4,5)    # -1=5   -2=4  -3=3  -4=1  -5=12 .....................-8 \n",
        "# 1 3  4   5\n",
        "#-4  -3  -2 -1\n",
        "print(name[-1])\n",
        "print(name[-2])"
      ],
      "execution_count": 24,
      "outputs": [
        {
          "output_type": "stream",
          "text": [
            "5\n",
            "4\n"
          ],
          "name": "stdout"
        }
      ]
    },
    {
      "cell_type": "code",
      "metadata": {
        "id": "l_1qUchG9gbJ",
        "outputId": "ccf25220-3bcb-42ca-fa0d-42275c7d44b9",
        "colab": {
          "base_uri": "https://localhost:8080/",
          "height": 34
        }
      },
      "source": [
        "#slice\n",
        "my_tuple=(\"an\",\"u\",\"sha\",\"ws1\",\"dsf\") # 0=an 1=u 2=sha 3=ws1 4=dsf\n",
        "print(my_tuple[0:3])"
      ],
      "execution_count": 26,
      "outputs": [
        {
          "output_type": "stream",
          "text": [
            "('an', 'u', 'sha')\n"
          ],
          "name": "stdout"
        }
      ]
    },
    {
      "cell_type": "code",
      "metadata": {
        "id": "WaSWRud5902y",
        "outputId": "c2bb8d6b-432c-4aeb-d94d-2554349b6622",
        "colab": {
          "base_uri": "https://localhost:8080/",
          "height": 34
        }
      },
      "source": [
        "my_tuple=(\"an\",\"u\",\"sha\",\"ws1\",\"dsf\") # 0=an 1=u 2=sha 3=ws1 4=dsf\n",
        "print(my_tuple[2:5])"
      ],
      "execution_count": 27,
      "outputs": [
        {
          "output_type": "stream",
          "text": [
            "('sha', 'ws1', 'dsf')\n"
          ],
          "name": "stdout"
        }
      ]
    },
    {
      "cell_type": "code",
      "metadata": {
        "id": "CAMDBjAi-usP",
        "outputId": "d3099f67-00b9-46df-8d3c-61995c3cb6de",
        "colab": {
          "base_uri": "https://localhost:8080/",
          "height": 34
        }
      },
      "source": [
        "my_tuple=(\"an\",\"u\",\"sha\",\"ws1\",\"dsf\") # 0=an 1=u 2=sha 3=ws1 4=dsf\n",
        "print(my_tuple[1:4])"
      ],
      "execution_count": 28,
      "outputs": [
        {
          "output_type": "stream",
          "text": [
            "('u', 'sha', 'ws1')\n"
          ],
          "name": "stdout"
        }
      ]
    },
    {
      "cell_type": "code",
      "metadata": {
        "id": "f-jG_r2u-01U",
        "outputId": "42d81340-28ec-4380-a7fd-92dc0df71676",
        "colab": {
          "base_uri": "https://localhost:8080/",
          "height": 34
        }
      },
      "source": [
        "#immutable we cant change we cant add we cant remove also\n",
        "#adding\n",
        "a=(1,2,3)\n",
        "b=(4,5,6,7)\n",
        "c=a+b\n",
        "print(c)"
      ],
      "execution_count": 30,
      "outputs": [
        {
          "output_type": "stream",
          "text": [
            "(1, 2, 3, 4, 5, 6, 7)\n"
          ],
          "name": "stdout"
        }
      ]
    },
    {
      "cell_type": "code",
      "metadata": {
        "id": "JnIaSD7D_Vgk",
        "outputId": "9d8c0300-520c-4c48-afbd-aaacdcd6ef04",
        "colab": {
          "base_uri": "https://localhost:8080/",
          "height": 34
        }
      },
      "source": [
        "x=4\n",
        "y=3\n",
        "z=x+y\n",
        "print(z)"
      ],
      "execution_count": 31,
      "outputs": [
        {
          "output_type": "stream",
          "text": [
            "7\n"
          ],
          "name": "stdout"
        }
      ]
    },
    {
      "cell_type": "code",
      "metadata": {
        "id": "i4J73DF__yFn"
      },
      "source": [
        "# x=\"anu\"\n",
        "# y=1\n",
        "# z=x+y\n",
        "# print(z)"
      ],
      "execution_count": 34,
      "outputs": []
    },
    {
      "cell_type": "code",
      "metadata": {
        "id": "6T5pZymz_OzL",
        "outputId": "4f49a365-a33a-4a0c-d50a-17c976f3a8bf",
        "colab": {
          "base_uri": "https://localhost:8080/",
          "height": 34
        }
      },
      "source": [
        "x=\"anu\"\n",
        "y=\"sha\"\n",
        "z=x+y\n",
        "print(z)"
      ],
      "execution_count": 32,
      "outputs": [
        {
          "output_type": "stream",
          "text": [
            "anusha\n"
          ],
          "name": "stdout"
        }
      ]
    },
    {
      "cell_type": "code",
      "metadata": {
        "id": "7PnCjz8EAYb9",
        "outputId": "7bec04a8-8505-4933-8fcb-8fd13714b24d",
        "colab": {
          "base_uri": "https://localhost:8080/",
          "height": 34
        }
      },
      "source": [
        "#Repeat\n",
        "my_tuple=(1,2,3)\n",
        "print(my_tuple*5)"
      ],
      "execution_count": 37,
      "outputs": [
        {
          "output_type": "stream",
          "text": [
            "(1, 2, 3, 1, 2, 3, 1, 2, 3, 1, 2, 3, 1, 2, 3)\n"
          ],
          "name": "stdout"
        }
      ]
    },
    {
      "cell_type": "code",
      "metadata": {
        "id": "nBevRwu9AGAe",
        "outputId": "92422329-61b3-44f8-adba-83348e14303d",
        "colab": {
          "base_uri": "https://localhost:8080/",
          "height": 34
        }
      },
      "source": [
        "x=3\n",
        "y=6\n",
        "\n",
        "print(3*6)"
      ],
      "execution_count": 41,
      "outputs": [
        {
          "output_type": "stream",
          "text": [
            "18\n"
          ],
          "name": "stdout"
        }
      ]
    },
    {
      "cell_type": "code",
      "metadata": {
        "id": "C3p31ycNA97M",
        "outputId": "abb830bb-1d4b-448e-f50b-8c9e11e4889e",
        "colab": {
          "base_uri": "https://localhost:8080/",
          "height": 68
        }
      },
      "source": [
        "#del\n",
        "my_tuple=(1,2,3)\n",
        "print(my_tuple)\n",
        "del my_tuple\n",
        "print(\"deleted success\")\n",
        "my_tuple=(4,5,6)\n",
        "print(my_tuple)"
      ],
      "execution_count": 46,
      "outputs": [
        {
          "output_type": "stream",
          "text": [
            "(1, 2, 3)\n",
            "deleted success\n",
            "(4, 5, 6)\n"
          ],
          "name": "stdout"
        }
      ]
    },
    {
      "cell_type": "code",
      "metadata": {
        "id": "fTLFgsAYDJ_9",
        "outputId": "019a5b26-3910-4906-c9dc-0db3cbe6700c",
        "colab": {
          "base_uri": "https://localhost:8080/",
          "height": 34
        }
      },
      "source": [
        "#count\n",
        "#index\n",
        "anu=(1,2,4,5,6,7,3,7,6,8,6,4)\n",
        "print(anu.count(4))"
      ],
      "execution_count": 54,
      "outputs": [
        {
          "output_type": "stream",
          "text": [
            "2\n"
          ],
          "name": "stdout"
        }
      ]
    },
    {
      "cell_type": "code",
      "metadata": {
        "id": "F9DXxpOQDc96",
        "outputId": "ceec8a99-2de4-476f-de7e-1852b9e44274",
        "colab": {
          "base_uri": "https://localhost:8080/",
          "height": 68
        }
      },
      "source": [
        "anu=(11,21,31,41,61,71)   # 0-11  1=21 2=31 3=41 4=61 5=71\n",
        "print(anu.index(41))\n",
        "print(anu.index(71))\n",
        "print(anu.index(31))"
      ],
      "execution_count": 57,
      "outputs": [
        {
          "output_type": "stream",
          "text": [
            "3\n",
            "5\n",
            "2\n"
          ],
          "name": "stdout"
        }
      ]
    },
    {
      "cell_type": "code",
      "metadata": {
        "id": "33tALofaEtol",
        "outputId": "c55976d0-f303-45f4-d765-c8c649f4723d",
        "colab": {
          "base_uri": "https://localhost:8080/",
          "height": 34
        }
      },
      "source": [
        "#sets [] list () tuple {} sets\n",
        "x={1,2,3,4}\n",
        "print(x)"
      ],
      "execution_count": 58,
      "outputs": [
        {
          "output_type": "stream",
          "text": [
            "{1, 2, 3, 4}\n"
          ],
          "name": "stdout"
        }
      ]
    },
    {
      "cell_type": "code",
      "metadata": {
        "id": "29KY7M6YE8UQ",
        "outputId": "0d749198-e7ee-4329-db39-b85c5461c625",
        "colab": {
          "base_uri": "https://localhost:8080/",
          "height": 34
        }
      },
      "source": [
        "x={9,1,2,2,3,4,5,4,7,6,7}\n",
        "print(x)"
      ],
      "execution_count": 62,
      "outputs": [
        {
          "output_type": "stream",
          "text": [
            "{1, 2, 3, 4, 5, 6, 7, 9}\n"
          ],
          "name": "stdout"
        }
      ]
    },
    {
      "cell_type": "code",
      "metadata": {
        "id": "7X0E6GsyFSfp",
        "outputId": "89978402-5ca5-491a-f6cf-43f14a9af63a",
        "colab": {
          "base_uri": "https://localhost:8080/",
          "height": 34
        }
      },
      "source": [
        "#adding single ele\n",
        "x={1,3,4}\n",
        "x.add(5)\n",
        "print(x)"
      ],
      "execution_count": 64,
      "outputs": [
        {
          "output_type": "stream",
          "text": [
            "{1, 3, 4, 5}\n"
          ],
          "name": "stdout"
        }
      ]
    },
    {
      "cell_type": "code",
      "metadata": {
        "id": "3I7_TczHFiBJ",
        "outputId": "7f007268-aaa6-45c3-8da2-ed61f0006c00",
        "colab": {
          "base_uri": "https://localhost:8080/",
          "height": 34
        }
      },
      "source": [
        "#multiple\n",
        "x={1,4,5,6}\n",
        "x.update([7,8,4])\n",
        "print(x)"
      ],
      "execution_count": 65,
      "outputs": [
        {
          "output_type": "stream",
          "text": [
            "{1, 4, 5, 6, 7, 8}\n"
          ],
          "name": "stdout"
        }
      ]
    },
    {
      "cell_type": "code",
      "metadata": {
        "id": "E05OSmqrF6qg",
        "outputId": "b9c816b9-73d7-4fef-916e-fbf275ed61fa",
        "colab": {
          "base_uri": "https://localhost:8080/",
          "height": 51
        }
      },
      "source": [
        "#remove\n",
        "#discard\n",
        "x={1,2,4,5}\n",
        "print(x)\n",
        "x.remove(4)\n",
        "print(x)\n",
        "# x.remove(6)\n",
        "# print(x)"
      ],
      "execution_count": 71,
      "outputs": [
        {
          "output_type": "stream",
          "text": [
            "{1, 2, 4, 5}\n",
            "{1, 2, 5}\n"
          ],
          "name": "stdout"
        }
      ]
    },
    {
      "cell_type": "code",
      "metadata": {
        "id": "Y0XfZjIeGJCb",
        "outputId": "d2eb16d6-c971-4576-ec29-621316dd16c3",
        "colab": {
          "base_uri": "https://localhost:8080/",
          "height": 68
        }
      },
      "source": [
        "x={1,2,4,5}\n",
        "print(x)\n",
        "x.discard(4)\n",
        "print(x)\n",
        "x.discard(8)\n",
        "print(x)"
      ],
      "execution_count": 72,
      "outputs": [
        {
          "output_type": "stream",
          "text": [
            "{1, 2, 4, 5}\n",
            "{1, 2, 5}\n",
            "{1, 2, 5}\n"
          ],
          "name": "stdout"
        }
      ]
    },
    {
      "cell_type": "code",
      "metadata": {
        "id": "cFvQXsgBHHMc",
        "outputId": "17d79552-d171-427d-f0c5-3cb2dbed991d",
        "colab": {
          "base_uri": "https://localhost:8080/",
          "height": 85
        }
      },
      "source": [
        "x={8,1,4,5,5,6,7}  #{1,4,5,6,7,8}\n",
        "print(x.pop())\n",
        "print(x)\n",
        "print(x.pop())\n",
        "print(x)"
      ],
      "execution_count": 75,
      "outputs": [
        {
          "output_type": "stream",
          "text": [
            "1\n",
            "{4, 5, 6, 7, 8}\n",
            "4\n",
            "{5, 6, 7, 8}\n"
          ],
          "name": "stdout"
        }
      ]
    },
    {
      "cell_type": "code",
      "metadata": {
        "id": "vbCcH-8-IL1Q",
        "outputId": "e4c38d02-9a05-4e2d-d490-4518ac6aeb18",
        "colab": {
          "base_uri": "https://localhost:8080/",
          "height": 34
        }
      },
      "source": [
        "#clear\n",
        "x={1,2,3}\n",
        "x.clear()\n",
        "print(x)"
      ],
      "execution_count": 76,
      "outputs": [
        {
          "output_type": "stream",
          "text": [
            "set()\n"
          ],
          "name": "stdout"
        }
      ]
    },
    {
      "cell_type": "code",
      "metadata": {
        "id": "R0FjetNeIzZu"
      },
      "source": [
        "# A union B\n",
        "# {1,2,3,4,5}\n",
        "# {4,5,6,7,8,9}\n",
        "# A intersection B\n",
        "# A-B Difference\n",
        "# Symmetric diff"
      ],
      "execution_count": null,
      "outputs": []
    }
  ]
}